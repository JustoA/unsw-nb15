{
 "cells": [
  {
   "cell_type": "markdown",
   "metadata": {
    "pycharm": {
     "name": "#%% md\n"
    }
   },
   "source": [
    "### First, import the necessary libraries"
   ]
  },
  {
   "cell_type": "code",
   "execution_count": 89,
   "metadata": {
    "pycharm": {
     "name": "#%%\n"
    }
   },
   "outputs": [],
   "source": [
    "from sklearn.cluster import KMeans\n",
    "import numpy as np\n",
    "import seaborn as sns\n",
    "import csv\n",
    "import os\n",
    "import pandas as pd\n",
    "import tensorflow as tf\n",
    "from tensorflow.keras.layers import Dense, Dropout"
   ]
  },
  {
   "cell_type": "code",
   "execution_count": 90,
   "metadata": {},
   "outputs": [],
   "source": [
    "# import os\n",
    "# os.environ[\"CUDA_VISIBLE_DEVICES\"]=\"1\"\n"
   ]
  },
  {
   "cell_type": "code",
   "execution_count": 91,
   "metadata": {
    "pycharm": {
     "name": "#%%\n"
    }
   },
   "outputs": [],
   "source": [
    "from sklearn.preprocessing import MinMaxScaler\n",
    "\n",
    "X_train = pd.read_csv('UNSW-NB15/a part of training and testing set/UNSW_NB15_testing-set.csv', header=0) # they flipped the names.\n",
    "X_test = pd.read_csv('UNSW-NB15/a part of training and testing set/UNSW_NB15_training-set.csv', header=0)\n",
    "\n",
    "X_train = X_train.dropna()\n",
    "X_test=  X_test.dropna()"
   ]
  },
  {
   "cell_type": "markdown",
   "metadata": {
    "pycharm": {
     "name": "#%% md\n"
    }
   },
   "source": [
    "Separate labels from data"
   ]
  },
  {
   "cell_type": "code",
   "execution_count": 92,
   "metadata": {
    "pycharm": {
     "name": "#%%\n"
    }
   },
   "outputs": [],
   "source": [
    "y_train = X_train.iloc[:,-1]\n",
    "X_train = X_train.iloc[:,:9]\n",
    "\n",
    "y_test = X_test.iloc[:,-1]\n",
    "X_test = X_test.iloc[:,:9]"
   ]
  },
  {
   "cell_type": "code",
   "execution_count": 93,
   "metadata": {
    "pycharm": {
     "name": "#%%\n"
    }
   },
   "outputs": [
    {
     "data": {
      "text/plain": "0            1\n1            2\n2            3\n3            4\n4            5\n         ...  \n82327    82328\n82328    82329\n82329    82330\n82330    82331\n82331    82332\nName: id, Length: 82332, dtype: int64"
     },
     "execution_count": 93,
     "metadata": {},
     "output_type": "execute_result"
    }
   ],
   "source": [
    "# categorical\n",
    "for col in ['proto', 'service', 'state']:\n",
    "    X_train[col] = pd.Categorical(X_train[col]).codes\n",
    "    X_test[col] = pd.Categorical(X_test[col]).codes\n",
    "\n",
    "X_train.pop('id')\n",
    "X_test.pop('id')"
   ]
  },
  {
   "cell_type": "code",
   "execution_count": 94,
   "metadata": {},
   "outputs": [],
   "source": [
    "# Remove columns created with \"algorithms in C#\" because they never say how they got them... not repeatable\n"
   ]
  },
  {
   "cell_type": "markdown",
   "metadata": {
    "pycharm": {
     "name": "#%% md\n"
    }
   },
   "source": [
    "## Scale the data (BIG, BIG PERFORMANCE INCREASE!!!)"
   ]
  },
  {
   "cell_type": "code",
   "execution_count": 95,
   "metadata": {
    "pycharm": {
     "name": "#%%\n"
    }
   },
   "outputs": [],
   "source": [
    "scaler = MinMaxScaler()\n",
    "X_train = scaler.fit_transform(X_train)\n",
    "X_test = scaler.transform(X_test)"
   ]
  },
  {
   "cell_type": "markdown",
   "metadata": {
    "pycharm": {
     "name": "#%% md\n"
    }
   },
   "source": [
    "## what if I just threw a NN at it, or \"How I became a data scientist in one easy step\""
   ]
  },
  {
   "cell_type": "code",
   "execution_count": 96,
   "metadata": {
    "pycharm": {
     "name": "#%%\n"
    }
   },
   "outputs": [],
   "source": [
    "# define the keras model\n",
    "batch_size = len(X_train)\n",
    "\n",
    "model = tf.keras.Sequential()\n",
    "model.add(Dense(64, input_dim=8, activation='tanh'))\n",
    "model.add(Dense(64, activation='tanh'))\n",
    "model.add(Dense(64, activation='tanh'))\n",
    "model.add(Dense(64, activation='tanh'))\n",
    "model.add(Dense(32, activation='tanh'))\n",
    "model.add(Dense(32, activation='tanh'))\n",
    "model.add(Dense(32, activation='tanh'))\n",
    "model.add(Dense(16, activation='tanh'))\n",
    "model.add(Dense(16, activation='tanh'))\n",
    "model.add(Dense(16, activation='tanh'))\n",
    "model.add(Dense(16, activation='tanh'))\n",
    "model.add(Dense(8, activation='tanh'))\n",
    "model.add(Dense(8, activation='tanh'))\n",
    "model.add(Dense(1, activation='sigmoid'))"
   ]
  },
  {
   "cell_type": "code",
   "execution_count": 97,
   "metadata": {
    "pycharm": {
     "name": "#%%\n"
    }
   },
   "outputs": [],
   "source": [
    "from tensorflow.keras.optimizers import Adam\n",
    "optim = Adam(learning_rate=0.003)\n",
    "\n",
    "redlr = tf.keras.callbacks.ReduceLROnPlateau(monitor='val_loss', factor=0.5, patience=10, min_lr=0.00001, verbose=True)\n",
    "earlystop = tf.keras.callbacks.EarlyStopping(monitor='val_loss', patience=30, restore_best_weights=True, verbose=True)\n",
    "model.compile(loss = tf.keras.losses.BinaryCrossentropy(), optimizer = optim, metrics=['accuracy'])"
   ]
  },
  {
   "cell_type": "code",
   "execution_count": 98,
   "metadata": {
    "pycharm": {
     "name": "#%%\n"
    }
   },
   "outputs": [],
   "source": [
    "#shuffle train myself, tf doesnt do that when i use val split\n",
    "\n",
    "shuffler = np.random.permutation(len(X_train))\n",
    "X_train = X_train[shuffler]\n",
    "y_train = y_train[shuffler]\n",
    "\n",
    "test_dataset = tf.data.Dataset.from_tensor_slices((X_test, y_test.values))\n",
    "test_dataset = test_dataset.shuffle(len(X_test)).batch(batch_size)"
   ]
  },
  {
   "cell_type": "code",
   "execution_count": 99,
   "metadata": {
    "pycharm": {
     "name": "#%%\n"
    },
    "scrolled": true,
    "tags": []
   },
   "outputs": [
    {
     "name": "stdout",
     "output_type": "stream",
     "text": [
      "Epoch 1/2000\n",
      "1/1 [==============================] - 0s 473ms/step - loss: 0.7447 - accuracy: 0.3185 - val_loss: 0.6429 - val_accuracy: 0.6757\b\b\b\b\b\b\b\b\b\b\b\b\b\b\b\b\b\b\b\b\b\b\b\b\b\b\b\b\b\b\b\b\n",
      "Epoch 2/2000\n",
      "1/1 [==============================] - 0s 29ms/step - loss: 0.6406 - accuracy: 0.6815 - val_loss: 0.6305 - val_accuracy: 0.6757\b\b\b\b\b\b\b\b\b\b\b\b\b\b\b\b\b\b\b\b\b\b\b\b\b\b\b\b\b\b\b\b\b\n",
      "Epoch 3/2000\n",
      "1/1 [==============================] - 0s 24ms/step - loss: 0.6272 - accuracy: 0.6815 - val_loss: 0.6280 - val_accuracy: 0.6757\b\b\b\b\b\b\b\b\b\b\b\b\b\b\b\b\b\b\b\b\b\b\b\b\b\b\b\b\b\b\b\b\b\n",
      "Epoch 4/2000\n",
      "1/1 [==============================] - 0s 27ms/step - loss: 0.6241 - accuracy: 0.6815 - val_loss: 0.6279 - val_accuracy: 0.6757\b\b\b\b\b\b\b\b\b\b\b\b\b\b\b\b\b\b\b\b\b\b\b\b\b\b\b\b\b\b\b\b\b\n",
      "Epoch 5/2000\n",
      "1/1 [==============================] - 0s 27ms/step - loss: 0.6234 - accuracy: 0.6815 - val_loss: 0.6286 - val_accuracy: 0.6757\b\b\b\b\b\b\b\b\b\b\b\b\b\b\b\b\b\b\b\b\b\b\b\b\b\b\b\b\b\b\b\b\b\n",
      "Epoch 6/2000\n",
      "1/1 [==============================] - 0s 25ms/step - loss: 0.6238 - accuracy: 0.6815 - val_loss: 0.6278 - val_accuracy: 0.6757\b\b\b\b\b\b\b\b\b\b\b\b\b\b\b\b\b\b\b\b\b\b\b\b\b\b\b\b\b\b\b\b\b\n",
      "Epoch 7/2000\n",
      "1/1 [==============================] - 0s 26ms/step - loss: 0.6230 - accuracy: 0.6815 - val_loss: 0.6247 - val_accuracy: 0.6757\b\b\b\b\b\b\b\b\b\b\b\b\b\b\b\b\b\b\b\b\b\b\b\b\b\b\b\b\b\b\b\b\b\n",
      "Epoch 8/2000\n",
      "1/1 [==============================] - 0s 25ms/step - loss: 0.6202 - accuracy: 0.6815 - val_loss: 0.6218 - val_accuracy: 0.6757\b\b\b\b\b\b\b\b\b\b\b\b\b\b\b\b\b\b\b\b\b\b\b\b\b\b\b\b\b\b\b\b\b\n",
      "Epoch 9/2000\n",
      "1/1 [==============================] - 0s 26ms/step - loss: 0.6182 - accuracy: 0.6815 - val_loss: 0.6181 - val_accuracy: 0.6757\b\b\b\b\b\b\b\b\b\b\b\b\b\b\b\b\b\b\b\b\b\b\b\b\b\b\b\b\b\b\b\b\b\n",
      "Epoch 10/2000\n",
      "1/1 [==============================] - 0s 25ms/step - loss: 0.6148 - accuracy: 0.6815 - val_loss: 0.6096 - val_accuracy: 0.6757\b\b\b\b\b\b\b\b\b\b\b\b\b\b\b\b\b\b\b\b\b\b\b\b\b\b\b\b\b\b\b\b\b\n",
      "Epoch 11/2000\n",
      "1/1 [==============================] - 0s 25ms/step - loss: 0.6058 - accuracy: 0.6815 - val_loss: 0.5971 - val_accuracy: 0.6758\b\b\b\b\b\b\b\b\b\b\b\b\b\b\b\b\b\b\b\b\b\b\b\b\b\b\b\b\b\b\b\b\b\n",
      "Epoch 12/2000\n",
      "1/1 [==============================] - 0s 27ms/step - loss: 0.5933 - accuracy: 0.6815 - val_loss: 0.5786 - val_accuracy: 0.7405\b\b\b\b\b\b\b\b\b\b\b\b\b\b\b\b\b\b\b\b\b\b\b\b\b\b\b\b\b\b\b\b\b\n",
      "Epoch 13/2000\n",
      "1/1 [==============================] - 0s 26ms/step - loss: 0.5772 - accuracy: 0.7445 - val_loss: 0.5736 - val_accuracy: 0.7398\b\b\b\b\b\b\b\b\b\b\b\b\b\b\b\b\b\b\b\b\b\b\b\b\b\b\b\b\b\b\b\b\b\n",
      "Epoch 14/2000\n",
      "1/1 [==============================] - 0s 30ms/step - loss: 0.5696 - accuracy: 0.7442 - val_loss: 0.5425 - val_accuracy: 0.7405\b\b\b\b\b\b\b\b\b\b\b\b\b\b\b\b\b\b\b\b\b\b\b\b\b\b\b\b\b\b\b\b\b\n",
      "Epoch 15/2000\n",
      "1/1 [==============================] - 0s 28ms/step - loss: 0.5399 - accuracy: 0.7445 - val_loss: 0.6375 - val_accuracy: 0.6649\b\b\b\b\b\b\b\b\b\b\b\b\b\b\b\b\b\b\b\b\b\b\b\b\b\b\b\b\b\b\b\b\b\n",
      "Epoch 16/2000\n",
      "1/1 [==============================] - 0s 30ms/step - loss: 0.6391 - accuracy: 0.6647 - val_loss: 0.5443 - val_accuracy: 0.7399\b\b\b\b\b\b\b\b\b\b\b\b\b\b\b\b\b\b\b\b\b\b\b\b\b\b\b\b\b\b\b\b\b\n",
      "Epoch 17/2000\n",
      "1/1 [==============================] - 0s 27ms/step - loss: 0.5408 - accuracy: 0.7440 - val_loss: 0.5831 - val_accuracy: 0.7399\b\b\b\b\b\b\b\b\b\b\b\b\b\b\b\b\b\b\b\b\b\b\b\b\b\b\b\b\b\b\b\b\b\n",
      "Epoch 18/2000\n",
      "1/1 [==============================] - 0s 25ms/step - loss: 0.5776 - accuracy: 0.7442 - val_loss: 0.5988 - val_accuracy: 0.6982\b\b\b\b\b\b\b\b\b\b\b\b\b\b\b\b\b\b\b\b\b\b\b\b\b\b\b\b\b\b\b\b\b\n",
      "Epoch 19/2000\n",
      "1/1 [==============================] - 0s 27ms/step - loss: 0.5930 - accuracy: 0.7025 - val_loss: 0.5962 - val_accuracy: 0.7401\b\b\b\b\b\b\b\b\b\b\b\b\b\b\b\b\b\b\b\b\b\b\b\b\b\b\b\b\b\b\b\b\b\n",
      "Epoch 20/2000\n",
      "1/1 [==============================] - 0s 26ms/step - loss: 0.5902 - accuracy: 0.7444 - val_loss: 0.5848 - val_accuracy: 0.7399\b\b\b\b\b\b\b\b\b\b\b\b\b\b\b\b\b\b\b\b\b\b\b\b\b\b\b\b\b\b\b\b\b\n",
      "Epoch 21/2000\n",
      "1/1 [==============================] - 0s 26ms/step - loss: 0.5790 - accuracy: 0.7442 - val_loss: 0.5765 - val_accuracy: 0.7399\b\b\b\b\b\b\b\b\b\b\b\b\b\b\b\b\b\b\b\b\b\b\b\b\b\b\b\b\b\b\b\b\b\n",
      "Epoch 22/2000\n",
      "1/1 [==============================] - 0s 24ms/step - loss: 0.5711 - accuracy: 0.7441 - val_loss: 0.5565 - val_accuracy: 0.7414\b\b\b\b\b\b\b\b\b\b\b\b\b\b\b\b\b\b\b\b\b\b\b\b\b\b\b\b\b\b\b\b\b\n",
      "Epoch 23/2000\n",
      "1/1 [==============================] - 0s 26ms/step - loss: 0.5518 - accuracy: 0.7454 - val_loss: 0.4990 - val_accuracy: 0.7812\b\b\b\b\b\b\b\b\b\b\b\b\b\b\b\b\b\b\b\b\b\b\b\b\b\b\b\b\b\b\b\b\b\n",
      "Epoch 24/2000\n",
      "1/1 [==============================] - 0s 27ms/step - loss: 0.4999 - accuracy: 0.7795 - val_loss: 0.5181 - val_accuracy: 0.7815\b\b\b\b\b\b\b\b\b\b\b\b\b\b\b\b\b\b\b\b\b\b\b\b\b\b\b\b\b\b\b\b\b\n",
      "Epoch 25/2000\n",
      "1/1 [==============================] - 0s 26ms/step - loss: 0.5197 - accuracy: 0.7799 - val_loss: 0.5248 - val_accuracy: 0.7799\b\b\b\b\b\b\b\b\b\b\b\b\b\b\b\b\b\b\b\b\b\b\b\b\b\b\b\b\b\b\b\b\b\n",
      "Epoch 26/2000\n",
      "1/1 [==============================] - 0s 27ms/step - loss: 0.5264 - accuracy: 0.7783 - val_loss: 0.5148 - val_accuracy: 0.7814\b\b\b\b\b\b\b\b\b\b\b\b\b\b\b\b\b\b\b\b\b\b\b\b\b\b\b\b\b\b\b\b\b\n",
      "Epoch 27/2000\n",
      "1/1 [==============================] - 0s 31ms/step - loss: 0.5164 - accuracy: 0.7798 - val_loss: 0.5015 - val_accuracy: 0.7811\b\b\b\b\b\b\b\b\b\b\b\b\b\b\b\b\b\b\b\b\b\b\b\b\b\b\b\b\b\b\b\b\b\n",
      "Epoch 28/2000\n",
      "1/1 [==============================] - 0s 24ms/step - loss: 0.5028 - accuracy: 0.7794 - val_loss: 0.5187 - val_accuracy: 0.7444\b\b\b\b\b\b\b\b\b\b\b\b\b\b\b\b\b\b\b\b\b\b\b\b\b\b\b\b\b\b\b\b\b\n",
      "Epoch 29/2000\n",
      "1/1 [==============================] - 0s 32ms/step - loss: 0.5157 - accuracy: 0.7493 - val_loss: 0.4882 - val_accuracy: 0.7937\b\b\b\b\b\b\b\b\b\b\b\b\b\b\b\b\b\b\b\b\b\b\b\b\b\b\b\b\b\b\b\b\b\n",
      "Epoch 30/2000\n",
      "1/1 [==============================] - 0s 25ms/step - loss: 0.4881 - accuracy: 0.7926 - val_loss: 0.4968 - val_accuracy: 0.7810\b\b\b\b\b\b\b\b\b\b\b\b\b\b\b\b\b\b\b\b\b\b\b\b\b\b\b\b\b\b\b\b\b\n",
      "Epoch 31/2000\n",
      "1/1 [==============================] - 0s 24ms/step - loss: 0.4980 - accuracy: 0.7794 - val_loss: 0.4947 - val_accuracy: 0.7810\b\b\b\b\b\b\b\b\b\b\b\b\b\b\b\b\b\b\b\b\b\b\b\b\b\b\b\b\b\b\b\b\b\n",
      "Epoch 32/2000\n",
      "1/1 [==============================] - 0s 25ms/step - loss: 0.4959 - accuracy: 0.7794 - val_loss: 0.4838 - val_accuracy: 0.8163\b\b\b\b\b\b\b\b\b\b\b\b\b\b\b\b\b\b\b\b\b\b\b\b\b\b\b\b\b\b\b\b\b\n",
      "Epoch 33/2000\n",
      "1/1 [==============================] - 0s 24ms/step - loss: 0.4835 - accuracy: 0.8175 - val_loss: 0.4971 - val_accuracy: 0.7504\b\b\b\b\b\b\b\b\b\b\b\b\b\b\b\b\b\b\b\b\b\b\b\b\b\b\b\b\b\b\b\b\b\n",
      "Epoch 34/2000\n",
      "1/1 [==============================] - 0s 24ms/step - loss: 0.4950 - accuracy: 0.7556 - val_loss: 0.4938 - val_accuracy: 0.7820\b\b\b\b\b\b\b\b\b\b\b\b\b\b\b\b\b\b\b\b\b\b\b\b\b\b\b\b\b\b\b\b\b\n",
      "Epoch 35/2000\n",
      "1/1 [==============================] - 0s 24ms/step - loss: 0.4953 - accuracy: 0.7805 - val_loss: 0.5012 - val_accuracy: 0.7829\b\b\b\b\b\b\b\b\b\b\b\b\b\b\b\b\b\b\b\b\b\b\b\b\b\b\b\b\b\b\b\b\b\n",
      "Epoch 36/2000\n",
      "1/1 [==============================] - 0s 25ms/step - loss: 0.5029 - accuracy: 0.7810 - val_loss: 0.5009 - val_accuracy: 0.7826\b\b\b\b\b\b\b\b\b\b\b\b\b\b\b\b\b\b\b\b\b\b\b\b\b\b\b\b\b\b\b\b\b\n",
      "Epoch 37/2000\n",
      "1/1 [==============================] - 0s 24ms/step - loss: 0.5026 - accuracy: 0.7810 - val_loss: 0.4966 - val_accuracy: 0.7826\b\b\b\b\b\b\b\b\b\b\b\b\b\b\b\b\b\b\b\b\b\b\b\b\b\b\b\b\b\b\b\b\b\n",
      "Epoch 38/2000\n",
      "1/1 [==============================] - 0s 25ms/step - loss: 0.4982 - accuracy: 0.7810 - val_loss: 0.4869 - val_accuracy: 0.7832\b\b\b\b\b\b\b\b\b\b\b\b\b\b\b\b\b\b\b\b\b\b\b\b\b\b\b\b\b\b\b\b\b\n",
      "Epoch 39/2000\n",
      "1/1 [==============================] - 0s 24ms/step - loss: 0.4883 - accuracy: 0.7814 - val_loss: 0.4710 - val_accuracy: 0.7978\b\b\b\b\b\b\b\b\b\b\b\b\b\b\b\b\b\b\b\b\b\b\b\b\b\b\b\b\b\b\b\b\b\n",
      "Epoch 40/2000\n",
      "1/1 [==============================] - 0s 24ms/step - loss: 0.4712 - accuracy: 0.7963 - val_loss: 0.5028 - val_accuracy: 0.7461\b\b\b\b\b\b\b\b\b\b\b\b\b\b\b\b\b\b\b\b\b\b\b\b\b\b\b\b\b\b\b\b\b\n",
      "Epoch 41/2000\n",
      "1/1 [==============================] - 0s 28ms/step - loss: 0.4999 - accuracy: 0.7508 - val_loss: 0.4644 - val_accuracy: 0.7919\b\b\b\b\b\b\b\b\b\b\b\b\b\b\b\b\b\b\b\b\b\b\b\b\b\b\b\b\b\b\b\b\b\n",
      "Epoch 42/2000\n",
      "1/1 [==============================] - 0s 27ms/step - loss: 0.4646 - accuracy: 0.7908 - val_loss: 0.4775 - val_accuracy: 0.7872\b\b\b\b\b\b\b\b\b\b\b\b\b\b\b\b\b\b\b\b\b\b\b\b\b\b\b\b\b\b\b\b\b\n",
      "Epoch 43/2000\n",
      "1/1 [==============================] - 0s 24ms/step - loss: 0.4791 - accuracy: 0.7867 - val_loss: 0.4651 - val_accuracy: 0.7937\b\b\b\b\b\b\b\b\b\b\b\b\b\b\b\b\b\b\b\b\b\b\b\b\b\b\b\b\b\b\b\b\b\n",
      "Epoch 44/2000\n",
      "1/1 [==============================] - 0s 26ms/step - loss: 0.4663 - accuracy: 0.7932 - val_loss: 0.4696 - val_accuracy: 0.7769\b\b\b\b\b\b\b\b\b\b\b\b\b\b\b\b\b\b\b\b\b\b\b\b\b\b\b\b\b\b\b\b\b\n",
      "Epoch 45/2000\n",
      "1/1 [==============================] - 0s 26ms/step - loss: 0.4677 - accuracy: 0.7799 - val_loss: 0.4572 - val_accuracy: 0.8049\b\b\b\b\b\b\b\b\b\b\b\b\b\b\b\b\b\b\b\b\b\b\b\b\b\b\b\b\b\b\b\b\b\n",
      "Epoch 46/2000\n",
      "1/1 [==============================] - 0s 24ms/step - loss: 0.4559 - accuracy: 0.8063 - val_loss: 0.4691 - val_accuracy: 0.7548\b\b\b\b\b\b\b\b\b\b\b\b\b\b\b\b\b\b\b\b\b\b\b\b\b\b\b\b\b\b\b\b\b\n",
      "Epoch 47/2000\n",
      "1/1 [==============================] - 0s 28ms/step - loss: 0.4713 - accuracy: 0.7512 - val_loss: 0.4470 - val_accuracy: 0.7936\b\b\b\b\b\b\b\b\b\b\b\b\b\b\b\b\b\b\b\b\b\b\b\b\b\b\b\b\b\b\b\b\b\n",
      "Epoch 48/2000\n",
      "1/1 [==============================] - 0s 29ms/step - loss: 0.4478 - accuracy: 0.7931 - val_loss: 0.4792 - val_accuracy: 0.7495\b\b\b\b\b\b\b\b\b\b\b\b\b\b\b\b\b\b\b\b\b\b\b\b\b\b\b\b\b\b\b\b\b\n",
      "Epoch 49/2000\n",
      "1/1 [==============================] - 0s 25ms/step - loss: 0.4762 - accuracy: 0.7546 - val_loss: 0.4403 - val_accuracy: 0.8212\b\b\b\b\b\b\b\b\b\b\b\b\b\b\b\b\b\b\b\b\b\b\b\b\b\b\b\b\b\b\b\b\b\n",
      "Epoch 50/2000\n",
      "1/1 [==============================] - 0s 25ms/step - loss: 0.4399 - accuracy: 0.8221 - val_loss: 0.4623 - val_accuracy: 0.7586\b\b\b\b\b\b\b\b\b\b\b\b\b\b\b\b\b\b\b\b\b\b\b\b\b\b\b\b\b\b\b\b\b\n",
      "Epoch 51/2000\n",
      "1/1 [==============================] - 0s 25ms/step - loss: 0.4645 - accuracy: 0.7551 - val_loss: 0.4398 - val_accuracy: 0.7995\b\b\b\b\b\b\b\b\b\b\b\b\b\b\b\b\b\b\b\b\b\b\b\b\b\b\b\b\b\b\b\b\b\n",
      "Epoch 52/2000\n",
      "1/1 [==============================] - 0s 27ms/step - loss: 0.4405 - accuracy: 0.8002 - val_loss: 0.4621 - val_accuracy: 0.7920\b\b\b\b\b\b\b\b\b\b\b\b\b\b\b\b\b\b\b\b\b\b\b\b\b\b\b\b\b\b\b\b\b\n",
      "Epoch 53/2000\n",
      "1/1 [==============================] - 0s 26ms/step - loss: 0.4600 - accuracy: 0.7942 - val_loss: 0.4334 - val_accuracy: 0.8201\b\b\b\b\b\b\b\b\b\b\b\b\b\b\b\b\b\b\b\b\b\b\b\b\b\b\b\b\b\b\b\b\b\n",
      "Epoch 54/2000\n",
      "1/1 [==============================] - 0s 24ms/step - loss: 0.4330 - accuracy: 0.8210 - val_loss: 0.4507 - val_accuracy: 0.7645\b\b\b\b\b\b\b\b\b\b\b\b\b\b\b\b\b\b\b\b\b\b\b\b\b\b\b\b\b\b\b\b\b\n",
      "Epoch 55/2000\n",
      "1/1 [==============================] - 0s 27ms/step - loss: 0.4527 - accuracy: 0.7622 - val_loss: 0.4240 - val_accuracy: 0.8131\b\b\b\b\b\b\b\b\b\b\b\b\b\b\b\b\b\b\b\b\b\b\b\b\b\b\b\b\b\b\b\b\b\n",
      "Epoch 56/2000\n",
      "1/1 [==============================] - 0s 25ms/step - loss: 0.4243 - accuracy: 0.8132 - val_loss: 0.4615 - val_accuracy: 0.7775\b\b\b\b\b\b\b\b\b\b\b\b\b\b\b\b\b\b\b\b\b\b\b\b\b\b\b\b\b\b\b\b\b\n",
      "Epoch 57/2000\n",
      "1/1 [==============================] - 0s 25ms/step - loss: 0.4587 - accuracy: 0.7806 - val_loss: 0.4362 - val_accuracy: 0.7756\b\b\b\b\b\b\b\b\b\b\b\b\b\b\b\b\b\b\b\b\b\b\b\b\b\b\b\b\b\b\b\b\b\n",
      "Epoch 58/2000\n",
      "1/1 [==============================] - 0s 26ms/step - loss: 0.4379 - accuracy: 0.7744 - val_loss: 0.4201 - val_accuracy: 0.8029\b\b\b\b\b\b\b\b\b\b\b\b\b\b\b\b\b\b\b\b\b\b\b\b\b\b\b\b\b\b\b\b\b\n",
      "Epoch 59/2000\n",
      "1/1 [==============================] - 0s 30ms/step - loss: 0.4208 - accuracy: 0.8023 - val_loss: 0.4649 - val_accuracy: 0.7763\b\b\b\b\b\b\b\b\b\b\b\b\b\b\b\b\b\b\b\b\b\b\b\b\b\b\b\b\b\b\b\b\b\n",
      "Epoch 60/2000\n",
      "1/1 [==============================] - 0s 29ms/step - loss: 0.4619 - accuracy: 0.7789 - val_loss: 0.4196 - val_accuracy: 0.7989\b\b\b\b\b\b\b\b\b\b\b\b\b\b\b\b\b\b\b\b\b\b\b\b\b\b\b\b\b\b\b\b\b\n",
      "Epoch 61/2000\n",
      "1/1 [==============================] - 0s 26ms/step - loss: 0.4207 - accuracy: 0.7978 - val_loss: 0.4281 - val_accuracy: 0.7764\b\b\b\b\b\b\b\b\b\b\b\b\b\b\b\b\b\b\b\b\b\b\b\b\b\b\b\b\b\b\b\b\b\n",
      "Epoch 62/2000\n",
      "1/1 [==============================] - 0s 31ms/step - loss: 0.4296 - accuracy: 0.7747 - val_loss: 0.4290 - val_accuracy: 0.8351\b\b\b\b\b\b\b\b\b\b\b\b\b\b\b\b\b\b\b\b\b\b\b\b\b\b\b\b\b\b\b\b\b\n",
      "Epoch 63/2000\n",
      "1/1 [==============================] - 0s 25ms/step - loss: 0.4279 - accuracy: 0.8367 - val_loss: 0.4132 - val_accuracy: 0.8299\b\b\b\b\b\b\b\b\b\b\b\b\b\b\b\b\b\b\b\b\b\b\b\b\b\b\b\b\b\b\b\b\b\n",
      "Epoch 64/2000\n",
      "1/1 [==============================] - 0s 26ms/step - loss: 0.4129 - accuracy: 0.8315 - val_loss: 0.4283 - val_accuracy: 0.7745\b\b\b\b\b\b\b\b\b\b\b\b\b\b\b\b\b\b\b\b\b\b\b\b\b\b\b\b\b\b\b\b\b\n",
      "Epoch 65/2000\n",
      "1/1 [==============================] - 0s 25ms/step - loss: 0.4301 - accuracy: 0.7716 - val_loss: 0.4073 - val_accuracy: 0.8359\b\b\b\b\b\b\b\b\b\b\b\b\b\b\b\b\b\b\b\b\b\b\b\b\b\b\b\b\b\b\b\b\b\n",
      "Epoch 66/2000\n",
      "1/1 [==============================] - 0s 26ms/step - loss: 0.4068 - accuracy: 0.8380 - val_loss: 0.4170 - val_accuracy: 0.8351\b\b\b\b\b\b\b\b\b\b\b\b\b\b\b\b\b\b\b\b\b\b\b\b\b\b\b\b\b\b\b\b\b\n",
      "Epoch 67/2000\n",
      "1/1 [==============================] - 0s 26ms/step - loss: 0.4155 - accuracy: 0.8367 - val_loss: 0.4304 - val_accuracy: 0.7809\b\b\b\b\b\b\b\b\b\b\b\b\b\b\b\b\b\b\b\b\b\b\b\b\b\b\b\b\b\b\b\b\b\n",
      "Epoch 68/2000\n",
      "1/1 [==============================] - 0s 28ms/step - loss: 0.4324 - accuracy: 0.7787 - val_loss: 0.4036 - val_accuracy: 0.8424\b\b\b\b\b\b\b\b\b\b\b\b\b\b\b\b\b\b\b\b\b\b\b\b\b\b\b\b\b\b\b\b\b\n",
      "Epoch 69/2000\n",
      "1/1 [==============================] - 0s 25ms/step - loss: 0.4030 - accuracy: 0.8445 - val_loss: 0.4088 - val_accuracy: 0.8392\b\b\b\b\b\b\b\b\b\b\b\b\b\b\b\b\b\b\b\b\b\b\b\b\b\b\b\b\b\b\b\b\b\n",
      "Epoch 70/2000\n",
      "1/1 [==============================] - 0s 28ms/step - loss: 0.4077 - accuracy: 0.8403 - val_loss: 0.4275 - val_accuracy: 0.7797\b\b\b\b\b\b\b\b\b\b\b\b\b\b\b\b\b\b\b\b\b\b\b\b\b\b\b\b\b\b\b\b\b\n",
      "Epoch 71/2000\n",
      "1/1 [==============================] - 0s 28ms/step - loss: 0.4295 - accuracy: 0.7766 - val_loss: 0.4051 - val_accuracy: 0.8348\b\b\b\b\b\b\b\b\b\b\b\b\b\b\b\b\b\b\b\b\b\b\b\b\b\b\b\b\b\b\b\b\b\n",
      "Epoch 72/2000\n",
      "1/1 [==============================] - 0s 26ms/step - loss: 0.4044 - accuracy: 0.8369 - val_loss: 0.4004 - val_accuracy: 0.8335\b\b\b\b\b\b\b\b\b\b\b\b\b\b\b\b\b\b\b\b\b\b\b\b\b\b\b\b\b\b\b\b\b\n",
      "Epoch 73/2000\n",
      "1/1 [==============================] - 0s 25ms/step - loss: 0.3999 - accuracy: 0.8355 - val_loss: 0.4179 - val_accuracy: 0.7883\b\b\b\b\b\b\b\b\b\b\b\b\b\b\b\b\b\b\b\b\b\b\b\b\b\b\b\b\b\b\b\b\b\n",
      "Epoch 74/2000\n",
      "1/1 [==============================] - 0s 27ms/step - loss: 0.4195 - accuracy: 0.7860 - val_loss: 0.4200 - val_accuracy: 0.8329\b\b\b\b\b\b\b\b\b\b\b\b\b\b\b\b\b\b\b\b\b\b\b\b\b\b\b\b\b\b\b\b\b\n",
      "Epoch 75/2000\n",
      "1/1 [==============================] - 0s 26ms/step - loss: 0.4180 - accuracy: 0.8342 - val_loss: 0.3996 - val_accuracy: 0.8146\b\b\b\b\b\b\b\b\b\b\b\b\b\b\b\b\b\b\b\b\b\b\b\b\b\b\b\b\b\b\b\b\b\n",
      "Epoch 76/2000\n",
      "1/1 [==============================] - 0s 26ms/step - loss: 0.4003 - accuracy: 0.8145 - val_loss: 0.3931 - val_accuracy: 0.8473\b\b\b\b\b\b\b\b\b\b\b\b\b\b\b\b\b\b\b\b\b\b\b\b\b\b\b\b\b\b\b\b\b\n",
      "Epoch 77/2000\n",
      "1/1 [==============================] - 0s 26ms/step - loss: 0.3930 - accuracy: 0.8502 - val_loss: 0.4011 - val_accuracy: 0.8431\b\b\b\b\b\b\b\b\b\b\b\b\b\b\b\b\b\b\b\b\b\b\b\b\b\b\b\b\b\b\b\b\b\n",
      "Epoch 78/2000\n",
      "1/1 [==============================] - 0s 26ms/step - loss: 0.4000 - accuracy: 0.8441 - val_loss: 0.4074 - val_accuracy: 0.8058\b\b\b\b\b\b\b\b\b\b\b\b\b\b\b\b\b\b\b\b\b\b\b\b\b\b\b\b\b\b\b\b\b\n",
      "Epoch 79/2000\n",
      "1/1 [==============================] - 0s 26ms/step - loss: 0.4087 - accuracy: 0.8051 - val_loss: 0.4025 - val_accuracy: 0.8392\b\b\b\b\b\b\b\b\b\b\b\b\b\b\b\b\b\b\b\b\b\b\b\b\b\b\b\b\b\b\b\b\b\n",
      "Epoch 80/2000\n",
      "1/1 [==============================] - 0s 26ms/step - loss: 0.4013 - accuracy: 0.8404 - val_loss: 0.3915 - val_accuracy: 0.8482\b\b\b\b\b\b\b\b\b\b\b\b\b\b\b\b\b\b\b\b\b\b\b\b\b\b\b\b\b\b\b\b\b\n",
      "Epoch 81/2000\n",
      "1/1 [==============================] - 0s 25ms/step - loss: 0.3916 - accuracy: 0.8504 - val_loss: 0.3923 - val_accuracy: 0.8347\b\b\b\b\b\b\b\b\b\b\b\b\b\b\b\b\b\b\b\b\b\b\b\b\b\b\b\b\b\b\b\b\b\n",
      "Epoch 82/2000\n",
      "1/1 [==============================] - 0s 31ms/step - loss: 0.3926 - accuracy: 0.8358 - val_loss: 0.4028 - val_accuracy: 0.8489\b\b\b\b\b\b\b\b\b\b\b\b\b\b\b\b\b\b\b\b\b\b\b\b\b\b\b\b\b\b\b\b\b\n",
      "Epoch 83/2000\n",
      "1/1 [==============================] - 0s 27ms/step - loss: 0.4013 - accuracy: 0.8500 - val_loss: 0.4026 - val_accuracy: 0.8051\b\b\b\b\b\b\b\b\b\b\b\b\b\b\b\b\b\b\b\b\b\b\b\b\b\b\b\b\b\b\b\b\b\n",
      "Epoch 84/2000\n",
      "1/1 [==============================] - 0s 29ms/step - loss: 0.4035 - accuracy: 0.8043 - val_loss: 0.3985 - val_accuracy: 0.8483\b\b\b\b\b\b\b\b\b\b\b\b\b\b\b\b\b\b\b\b\b\b\b\b\b\b\b\b\b\b\b\b\b\n",
      "Epoch 85/2000\n",
      "1/1 [==============================] - 0s 27ms/step - loss: 0.3971 - accuracy: 0.8492 - val_loss: 0.3893 - val_accuracy: 0.8515\b\b\b\b\b\b\b\b\b\b\b\b\b\b\b\b\b\b\b\b\b\b\b\b\b\b\b\b\b\b\b\b\b\n",
      "Epoch 86/2000\n",
      "1/1 [==============================] - 0s 29ms/step - loss: 0.3893 - accuracy: 0.8531 - val_loss: 0.3894 - val_accuracy: 0.8491\b\b\b\b\b\b\b\b\b\b\b\b\b\b\b\b\b\b\b\b\b\b\b\b\b\b\b\b\b\b\b\b\b\n",
      "Epoch 87/2000\n",
      "1/1 [==============================] - 0s 30ms/step - loss: 0.3896 - accuracy: 0.8514 - val_loss: 0.3959 - val_accuracy: 0.8456\b\b\b\b\b\b\b\b\b\b\b\b\b\b\b\b\b\b\b\b\b\b\b\b\b\b\b\b\b\b\b\b\b\n",
      "Epoch 88/2000\n",
      "1/1 [==============================] - 0s 28ms/step - loss: 0.3948 - accuracy: 0.8474 - val_loss: 0.3945 - val_accuracy: 0.8233\b\b\b\b\b\b\b\b\b\b\b\b\b\b\b\b\b\b\b\b\b\b\b\b\b\b\b\b\b\b\b\b\b\n",
      "Epoch 89/2000\n",
      "1/1 [==============================] - 0s 28ms/step - loss: 0.3950 - accuracy: 0.8243 - val_loss: 0.3922 - val_accuracy: 0.8488\b\b\b\b\b\b\b\b\b\b\b\b\b\b\b\b\b\b\b\b\b\b\b\b\b\b\b\b\b\b\b\b\b\n",
      "Epoch 90/2000\n",
      "1/1 [==============================] - 0s 27ms/step - loss: 0.3911 - accuracy: 0.8508 - val_loss: 0.3869 - val_accuracy: 0.8486\b\b\b\b\b\b\b\b\b\b\b\b\b\b\b\b\b\b\b\b\b\b\b\b\b\b\b\b\b\b\b\b\b\n",
      "Epoch 91/2000\n",
      "1/1 [==============================] - 0s 30ms/step - loss: 0.3866 - accuracy: 0.8508 - val_loss: 0.3870 - val_accuracy: 0.8451\b\b\b\b\b\b\b\b\b\b\b\b\b\b\b\b\b\b\b\b\b\b\b\b\b\b\b\b\b\b\b\b\b\n",
      "Epoch 92/2000\n",
      "1/1 [==============================] - 0s 26ms/step - loss: 0.3869 - accuracy: 0.8466 - val_loss: 0.3912 - val_accuracy: 0.8467\b\b\b\b\b\b\b\b\b\b\b\b\b\b\b\b\b\b\b\b\b\b\b\b\b\b\b\b\b\b\b\b\b\n",
      "Epoch 93/2000\n",
      "1/1 [==============================] - 0s 28ms/step - loss: 0.3902 - accuracy: 0.8483 - val_loss: 0.3898 - val_accuracy: 0.8328\b\b\b\b\b\b\b\b\b\b\b\b\b\b\b\b\b\b\b\b\b\b\b\b\b\b\b\b\b\b\b\b\b\n",
      "Epoch 94/2000\n",
      "1/1 [==============================] - 0s 27ms/step - loss: 0.3901 - accuracy: 0.8346 - val_loss: 0.3885 - val_accuracy: 0.8473\b\b\b\b\b\b\b\b\b\b\b\b\b\b\b\b\b\b\b\b\b\b\b\b\b\b\b\b\b\b\b\b\b\n",
      "Epoch 95/2000\n",
      "1/1 [==============================] - 0s 25ms/step - loss: 0.3876 - accuracy: 0.8490 - val_loss: 0.3846 - val_accuracy: 0.8532\b\b\b\b\b\b\b\b\b\b\b\b\b\b\b\b\b\b\b\b\b\b\b\b\b\b\b\b\b\b\b\b\b\n",
      "Epoch 96/2000\n",
      "1/1 [==============================] - 0s 25ms/step - loss: 0.3844 - accuracy: 0.8554 - val_loss: 0.3842 - val_accuracy: 0.8508\b\b\b\b\b\b\b\b\b\b\b\b\b\b\b\b\b\b\b\b\b\b\b\b\b\b\b\b\b\b\b\b\b\n",
      "Epoch 97/2000\n",
      "1/1 [==============================] - 0s 24ms/step - loss: 0.3840 - accuracy: 0.8528 - val_loss: 0.3868 - val_accuracy: 0.8531\b\b\b\b\b\b\b\b\b\b\b\b\b\b\b\b\b\b\b\b\b\b\b\b\b\b\b\b\b\b\b\b\b\n",
      "Epoch 98/2000\n",
      "1/1 [==============================] - 0s 24ms/step - loss: 0.3859 - accuracy: 0.8558 - val_loss: 0.3867 - val_accuracy: 0.8356\b\b\b\b\b\b\b\b\b\b\b\b\b\b\b\b\b\b\b\b\b\b\b\b\b\b\b\b\b\b\b\b\b\n",
      "Epoch 99/2000\n",
      "1/1 [==============================] - 0s 25ms/step - loss: 0.3869 - accuracy: 0.8375 - val_loss: 0.3884 - val_accuracy: 0.8480\b\b\b\b\b\b\b\b\b\b\b\b\b\b\b\b\b\b\b\b\b\b\b\b\b\b\b\b\b\b\b\b\b\n",
      "Epoch 100/2000\n",
      "1/1 [==============================] - 0s 42ms/step - loss: 0.3874 - accuracy: 0.8496 - val_loss: 0.3843 - val_accuracy: 0.8440\b\b\b\b\b\b\b\b\b\b\b\b\b\b\b\b\b\b\b\b\b\b\b\b\b\b\b\b\b\b\b\b\b\n",
      "Epoch 101/2000\n",
      "1/1 [==============================] - 0s 24ms/step - loss: 0.3845 - accuracy: 0.8460 - val_loss: 0.3827 - val_accuracy: 0.8519\b\b\b\b\b\b\b\b\b\b\b\b\b\b\b\b\b\b\b\b\b\b\b\b\b\b\b\b\b\b\b\b\b\n",
      "Epoch 102/2000\n",
      "1/1 [==============================] - 0s 27ms/step - loss: 0.3821 - accuracy: 0.8555 - val_loss: 0.3807 - val_accuracy: 0.8538\b\b\b\b\b\b\b\b\b\b\b\b\b\b\b\b\b\b\b\b\b\b\b\b\b\b\b\b\b\b\b\b\b\n",
      "Epoch 103/2000\n",
      "1/1 [==============================] - 0s 27ms/step - loss: 0.3805 - accuracy: 0.8556 - val_loss: 0.3803 - val_accuracy: 0.8530\b\b\b\b\b\b\b\b\b\b\b\b\b\b\b\b\b\b\b\b\b\b\b\b\b\b\b\b\b\b\b\b\b\n",
      "Epoch 104/2000\n",
      "1/1 [==============================] - 0s 25ms/step - loss: 0.3801 - accuracy: 0.8554 - val_loss: 0.3812 - val_accuracy: 0.8558\b\b\b\b\b\b\b\b\b\b\b\b\b\b\b\b\b\b\b\b\b\b\b\b\b\b\b\b\b\b\b\b\b\n",
      "Epoch 105/2000\n",
      "1/1 [==============================] - 0s 24ms/step - loss: 0.3806 - accuracy: 0.8581 - val_loss: 0.3813 - val_accuracy: 0.8418\b\b\b\b\b\b\b\b\b\b\b\b\b\b\b\b\b\b\b\b\b\b\b\b\b\b\b\b\b\b\b\b\b\n",
      "Epoch 106/2000\n",
      "1/1 [==============================] - 0s 24ms/step - loss: 0.3815 - accuracy: 0.8431 - val_loss: 0.3852 - val_accuracy: 0.8489\b\b\b\b\b\b\b\b\b\b\b\b\b\b\b\b\b\b\b\b\b\b\b\b\b\b\b\b\b\b\b\b\b\n",
      "Epoch 107/2000\n",
      "1/1 [==============================] - 0s 25ms/step - loss: 0.3845 - accuracy: 0.8503 - val_loss: 0.3844 - val_accuracy: 0.8308\b\b\b\b\b\b\b\b\b\b\b\b\b\b\b\b\b\b\b\b\b\b\b\b\b\b\b\b\b\b\b\b\b\n",
      "Epoch 108/2000\n",
      "1/1 [==============================] - 0s 27ms/step - loss: 0.3849 - accuracy: 0.8328 - val_loss: 0.3893 - val_accuracy: 0.8511\b\b\b\b\b\b\b\b\b\b\b\b\b\b\b\b\b\b\b\b\b\b\b\b\b\b\b\b\b\b\b\b\b\n",
      "Epoch 109/2000\n",
      "1/1 [==============================] - 0s 28ms/step - loss: 0.3884 - accuracy: 0.8517 - val_loss: 0.3819 - val_accuracy: 0.8318\b\b\b\b\b\b\b\b\b\b\b\b\b\b\b\b\b\b\b\b\b\b\b\b\b\b\b\b\b\b\b\b\b\n",
      "Epoch 110/2000\n",
      "1/1 [==============================] - 0s 26ms/step - loss: 0.3824 - accuracy: 0.8339 - val_loss: 0.3799 - val_accuracy: 0.8496\b\b\b\b\b\b\b\b\b\b\b\b\b\b\b\b\b\b\b\b\b\b\b\b\b\b\b\b\b\b\b\b\b\n",
      "Epoch 111/2000\n",
      "1/1 [==============================] - 0s 25ms/step - loss: 0.3795 - accuracy: 0.8512 - val_loss: 0.3754 - val_accuracy: 0.8516\b\b\b\b\b\b\b\b\b\b\b\b\b\b\b\b\b\b\b\b\b\b\b\b\b\b\b\b\b\b\b\b\b\n",
      "Epoch 112/2000\n",
      "1/1 [==============================] - 0s 25ms/step - loss: 0.3756 - accuracy: 0.8539 - val_loss: 0.3740 - val_accuracy: 0.8548\b\b\b\b\b\b\b\b\b\b\b\b\b\b\b\b\b\b\b\b\b\b\b\b\b\b\b\b\b\b\b\b\b\n",
      "Epoch 113/2000\n",
      "1/1 [==============================] - 0s 24ms/step - loss: 0.3741 - accuracy: 0.8565 - val_loss: 0.3746 - val_accuracy: 0.8504\b\b\b\b\b\b\b\b\b\b\b\b\b\b\b\b\b\b\b\b\b\b\b\b\b\b\b\b\b\b\b\b\b\n",
      "Epoch 114/2000\n",
      "1/1 [==============================] - 0s 33ms/step - loss: 0.3745 - accuracy: 0.8526 - val_loss: 0.3747 - val_accuracy: 0.8423\b\b\b\b\b\b\b\b\b\b\b\b\b\b\b\b\b\b\b\b\b\b\b\b\b\b\b\b\b\b\b\b\b\n",
      "Epoch 115/2000\n",
      "1/1 [==============================] - 0s 24ms/step - loss: 0.3753 - accuracy: 0.8438 - val_loss: 0.3776 - val_accuracy: 0.8500\b\b\b\b\b\b\b\b\b\b\b\b\b\b\b\b\b\b\b\b\b\b\b\b\b\b\b\b\b\b\b\b\b\n",
      "Epoch 116/2000\n",
      "1/1 [==============================] - 0s 25ms/step - loss: 0.3773 - accuracy: 0.8514 - val_loss: 0.3749 - val_accuracy: 0.8366\b\b\b\b\b\b\b\b\b\b\b\b\b\b\b\b\b\b\b\b\b\b\b\b\b\b\b\b\b\b\b\b\b\n",
      "Epoch 117/2000\n",
      "1/1 [==============================] - 0s 25ms/step - loss: 0.3756 - accuracy: 0.8387 - val_loss: 0.3770 - val_accuracy: 0.8504\b\b\b\b\b\b\b\b\b\b\b\b\b\b\b\b\b\b\b\b\b\b\b\b\b\b\b\b\b\b\b\b\b\n",
      "Epoch 118/2000\n",
      "1/1 [==============================] - 0s 26ms/step - loss: 0.3767 - accuracy: 0.8514 - val_loss: 0.3727 - val_accuracy: 0.8376\b\b\b\b\b\b\b\b\b\b\b\b\b\b\b\b\b\b\b\b\b\b\b\b\b\b\b\b\b\b\b\b\b\n",
      "Epoch 119/2000\n",
      "1/1 [==============================] - 0s 26ms/step - loss: 0.3735 - accuracy: 0.8395 - val_loss: 0.3739 - val_accuracy: 0.8495\b\b\b\b\b\b\b\b\b\b\b\b\b\b\b\b\b\b\b\b\b\b\b\b\b\b\b\b\b\b\b\b\b\n",
      "Epoch 120/2000\n",
      "1/1 [==============================] - 0s 25ms/step - loss: 0.3737 - accuracy: 0.8512 - val_loss: 0.3702 - val_accuracy: 0.8380\b\b\b\b\b\b\b\b\b\b\b\b\b\b\b\b\b\b\b\b\b\b\b\b\b\b\b\b\b\b\b\b\b\n",
      "Epoch 121/2000\n",
      "1/1 [==============================] - 0s 27ms/step - loss: 0.3710 - accuracy: 0.8397 - val_loss: 0.3717 - val_accuracy: 0.8500\b\b\b\b\b\b\b\b\b\b\b\b\b\b\b\b\b\b\b\b\b\b\b\b\b\b\b\b\b\b\b\b\b\n",
      "Epoch 122/2000\n",
      "1/1 [==============================] - 0s 25ms/step - loss: 0.3717 - accuracy: 0.8516 - val_loss: 0.3682 - val_accuracy: 0.8376\b\b\b\b\b\b\b\b\b\b\b\b\b\b\b\b\b\b\b\b\b\b\b\b\b\b\b\b\b\b\b\b\b\n",
      "Epoch 123/2000\n",
      "1/1 [==============================] - 0s 26ms/step - loss: 0.3691 - accuracy: 0.8392 - val_loss: 0.3695 - val_accuracy: 0.8497\b\b\b\b\b\b\b\b\b\b\b\b\b\b\b\b\b\b\b\b\b\b\b\b\b\b\b\b\b\b\b\b\b\n",
      "Epoch 124/2000\n",
      "1/1 [==============================] - 0s 26ms/step - loss: 0.3696 - accuracy: 0.8513 - val_loss: 0.3652 - val_accuracy: 0.8401\b\b\b\b\b\b\b\b\b\b\b\b\b\b\b\b\b\b\b\b\b\b\b\b\b\b\b\b\b\b\b\b\b\n",
      "Epoch 125/2000\n",
      "1/1 [==============================] - 0s 24ms/step - loss: 0.3663 - accuracy: 0.8411 - val_loss: 0.3649 - val_accuracy: 0.8497\b\b\b\b\b\b\b\b\b\b\b\b\b\b\b\b\b\b\b\b\b\b\b\b\b\b\b\b\b\b\b\b\b\n",
      "Epoch 126/2000\n",
      "1/1 [==============================] - 0s 27ms/step - loss: 0.3653 - accuracy: 0.8511 - val_loss: 0.3613 - val_accuracy: 0.8442\b\b\b\b\b\b\b\b\b\b\b\b\b\b\b\b\b\b\b\b\b\b\b\b\b\b\b\b\b\b\b\b\b\n",
      "Epoch 127/2000\n",
      "1/1 [==============================] - 0s 25ms/step - loss: 0.3625 - accuracy: 0.8455 - val_loss: 0.3603 - val_accuracy: 0.8503\b\b\b\b\b\b\b\b\b\b\b\b\b\b\b\b\b\b\b\b\b\b\b\b\b\b\b\b\b\b\b\b\b\n",
      "Epoch 128/2000\n",
      "1/1 [==============================] - 0s 27ms/step - loss: 0.3611 - accuracy: 0.8521 - val_loss: 0.3582 - val_accuracy: 0.8487\b\b\b\b\b\b\b\b\b\b\b\b\b\b\b\b\b\b\b\b\b\b\b\b\b\b\b\b\b\b\b\b\b\n",
      "Epoch 129/2000\n",
      "1/1 [==============================] - 0s 26ms/step - loss: 0.3595 - accuracy: 0.8508 - val_loss: 0.3575 - val_accuracy: 0.8555\b\b\b\b\b\b\b\b\b\b\b\b\b\b\b\b\b\b\b\b\b\b\b\b\b\b\b\b\b\b\b\b\b\n",
      "Epoch 130/2000\n",
      "1/1 [==============================] - 0s 24ms/step - loss: 0.3585 - accuracy: 0.8579 - val_loss: 0.3562 - val_accuracy: 0.8501\b\b\b\b\b\b\b\b\b\b\b\b\b\b\b\b\b\b\b\b\b\b\b\b\b\b\b\b\b\b\b\b\b\n",
      "Epoch 131/2000\n",
      "1/1 [==============================] - 0s 26ms/step - loss: 0.3576 - accuracy: 0.8526 - val_loss: 0.3564 - val_accuracy: 0.8538\b\b\b\b\b\b\b\b\b\b\b\b\b\b\b\b\b\b\b\b\b\b\b\b\b\b\b\b\b\b\b\b\b\n",
      "Epoch 132/2000\n",
      "1/1 [==============================] - 0s 24ms/step - loss: 0.3575 - accuracy: 0.8554 - val_loss: 0.3566 - val_accuracy: 0.8418\b\b\b\b\b\b\b\b\b\b\b\b\b\b\b\b\b\b\b\b\b\b\b\b\b\b\b\b\b\b\b\b\b\n",
      "Epoch 133/2000\n",
      "1/1 [==============================] - 0s 26ms/step - loss: 0.3582 - accuracy: 0.8424 - val_loss: 0.3640 - val_accuracy: 0.8521\b\b\b\b\b\b\b\b\b\b\b\b\b\b\b\b\b\b\b\b\b\b\b\b\b\b\b\b\b\b\b\b\b\n",
      "Epoch 134/2000\n",
      "1/1 [==============================] - 0s 24ms/step - loss: 0.3649 - accuracy: 0.8531 - val_loss: 0.3685 - val_accuracy: 0.8177\b\b\b\b\b\b\b\b\b\b\b\b\b\b\b\b\b\b\b\b\b\b\b\b\b\b\b\b\b\b\b\b\b\n",
      "Epoch 135/2000\n",
      "1/1 [==============================] - 0s 27ms/step - loss: 0.3706 - accuracy: 0.8172 - val_loss: 0.4010 - val_accuracy: 0.8161\b\b\b\b\b\b\b\b\b\b\b\b\b\b\b\b\b\b\b\b\b\b\b\b\b\b\b\b\b\b\b\b\b\n",
      "Epoch 136/2000\n",
      "1/1 [==============================] - 0s 28ms/step - loss: 0.4014 - accuracy: 0.8166 - val_loss: 0.3549 - val_accuracy: 0.8432\b\b\b\b\b\b\b\b\b\b\b\b\b\b\b\b\b\b\b\b\b\b\b\b\b\b\b\b\b\b\b\b\b\n",
      "Epoch 137/2000\n",
      "1/1 [==============================] - 0s 26ms/step - loss: 0.3570 - accuracy: 0.8442 - val_loss: 0.4022 - val_accuracy: 0.7871\b\b\b\b\b\b\b\b\b\b\b\b\b\b\b\b\b\b\b\b\b\b\b\b\b\b\b\b\b\b\b\b\b\n",
      "Epoch 138/2000\n",
      "1/1 [==============================] - 0s 24ms/step - loss: 0.4053 - accuracy: 0.7845 - val_loss: 0.4136 - val_accuracy: 0.8066\b\b\b\b\b\b\b\b\b\b\b\b\b\b\b\b\b\b\b\b\b\b\b\b\b\b\b\b\b\b\b\b\b\n",
      "Epoch 139/2000\n",
      "1/1 [==============================] - 0s 25ms/step - loss: 0.4136 - accuracy: 0.8077 - val_loss: 0.4166 - val_accuracy: 0.8026\b\b\b\b\b\b\b\b\b\b\b\b\b\b\b\b\b\b\b\b\b\b\b\b\b\b\b\b\b\b\b\b\b\n",
      "Epoch 140/2000\n",
      "1/1 [==============================] - 0s 26ms/step - loss: 0.4164 - accuracy: 0.8041 - val_loss: 0.3831 - val_accuracy: 0.8333\b\b\b\b\b\b\b\b\b\b\b\b\b\b\b\b\b\b\b\b\b\b\b\b\b\b\b\b\b\b\b\b\b\n",
      "Epoch 141/2000\n",
      "1/1 [==============================] - 0s 31ms/step - loss: 0.3853 - accuracy: 0.8337 - val_loss: 0.4062 - val_accuracy: 0.7851\b\b\b\b\b\b\b\b\b\b\b\b\b\b\b\b\b\b\b\b\b\b\b\b\b\b\b\b\b\b\b\b\b\n",
      "Epoch 142/2000\n",
      "1/1 [==============================] - 0s 26ms/step - loss: 0.4097 - accuracy: 0.7834 - val_loss: 0.3923 - val_accuracy: 0.8136\b\b\b\b\b\b\b\b\b\b\b\b\b\b\b\b\b\b\b\b\b\b\b\b\b\b\b\b\b\b\b\b\b\n",
      "Epoch 143/2000\n",
      "1/1 [==============================] - 0s 29ms/step - loss: 0.3956 - accuracy: 0.8122 - val_loss: 0.3824 - val_accuracy: 0.8372\b\b\b\b\b\b\b\b\b\b\b\b\b\b\b\b\b\b\b\b\b\b\b\b\b\b\b\b\b\b\b\b\b\n",
      "Epoch 144/2000\n",
      "1/1 [==============================] - 0s 26ms/step - loss: 0.3842 - accuracy: 0.8389 - val_loss: 0.3955 - val_accuracy: 0.8350\b\b\b\b\b\b\b\b\b\b\b\b\b\b\b\b\b\b\b\b\b\b\b\b\b\b\b\b\b\b\b\b\b\n",
      "Epoch 145/2000\n",
      "1/1 [==============================] - 0s 24ms/step - loss: 0.3964 - accuracy: 0.8367 - val_loss: 0.3622 - val_accuracy: 0.8337\b\b\b\b\b\b\b\b\b\b\b\b\b\b\b\b\b\b\b\b\b\b\b\b\b\b\b\b\b\b\b\b\b\n",
      "Epoch 146/2000\n",
      "1/1 [==============================] - 0s 27ms/step - loss: 0.3647 - accuracy: 0.8347 - val_loss: 0.3771 - val_accuracy: 0.8210\b\b\b\b\b\b\b\b\b\b\b\b\b\b\b\b\b\b\b\b\b\b\b\b\b\b\b\b\b\b\b\b\b\n",
      "\n",
      "Epoch 00146: ReduceLROnPlateau reducing learning rate to 0.001500000013038516.\n",
      "Epoch 147/2000\n",
      "1/1 [==============================] - 0s 27ms/step - loss: 0.3799 - accuracy: 0.8198 - val_loss: 0.3712 - val_accuracy: 0.8284\b\b\b\b\b\b\b\b\b\b\b\b\b\b\b\b\b\b\b\b\b\b\b\b\b\b\b\b\b\b\b\b\b\n",
      "Epoch 148/2000\n",
      "1/1 [==============================] - 0s 25ms/step - loss: 0.3736 - accuracy: 0.8281 - val_loss: 0.3591 - val_accuracy: 0.8446\b\b\b\b\b\b\b\b\b\b\b\b\b\b\b\b\b\b\b\b\b\b\b\b\b\b\b\b\b\b\b\b\b\n",
      "Epoch 149/2000\n",
      "1/1 [==============================] - 0s 25ms/step - loss: 0.3608 - accuracy: 0.8456 - val_loss: 0.3666 - val_accuracy: 0.8527\b\b\b\b\b\b\b\b\b\b\b\b\b\b\b\b\b\b\b\b\b\b\b\b\b\b\b\b\b\b\b\b\b\n",
      "Epoch 150/2000\n",
      "1/1 [==============================] - 0s 30ms/step - loss: 0.3674 - accuracy: 0.8535 - val_loss: 0.3674 - val_accuracy: 0.8548\b\b\b\b\b\b\b\b\b\b\b\b\b\b\b\b\b\b\b\b\b\b\b\b\b\b\b\b\b\b\b\b\b\n",
      "Epoch 151/2000\n",
      "1/1 [==============================] - 0s 30ms/step - loss: 0.3682 - accuracy: 0.8551 - val_loss: 0.3554 - val_accuracy: 0.8491\b\b\b\b\b\b\b\b\b\b\b\b\b\b\b\b\b\b\b\b\b\b\b\b\b\b\b\b\b\b\b\b\b\n",
      "Epoch 152/2000\n",
      "1/1 [==============================] - 0s 28ms/step - loss: 0.3571 - accuracy: 0.8524 - val_loss: 0.3638 - val_accuracy: 0.8090\b\b\b\b\b\b\b\b\b\b\b\b\b\b\b\b\b\b\b\b\b\b\b\b\b\b\b\b\b\b\b\b\b\n",
      "Epoch 153/2000\n",
      "1/1 [==============================] - 0s 25ms/step - loss: 0.3664 - accuracy: 0.8101 - val_loss: 0.3589 - val_accuracy: 0.8219\b\b\b\b\b\b\b\b\b\b\b\b\b\b\b\b\b\b\b\b\b\b\b\b\b\b\b\b\b\b\b\b\b\n",
      "Epoch 154/2000\n",
      "1/1 [==============================] - 0s 26ms/step - loss: 0.3614 - accuracy: 0.8242 - val_loss: 0.3556 - val_accuracy: 0.8544\b\b\b\b\b\b\b\b\b\b\b\b\b\b\b\b\b\b\b\b\b\b\b\b\b\b\b\b\b\b\b\b\b\n",
      "Epoch 155/2000\n",
      "1/1 [==============================] - 0s 26ms/step - loss: 0.3570 - accuracy: 0.8554 - val_loss: 0.3630 - val_accuracy: 0.8507\b\b\b\b\b\b\b\b\b\b\b\b\b\b\b\b\b\b\b\b\b\b\b\b\b\b\b\b\b\b\b\b\b\n",
      "Epoch 156/2000\n",
      "1/1 [==============================] - 0s 33ms/step - loss: 0.3640 - accuracy: 0.8519 - val_loss: 0.3534 - val_accuracy: 0.8465\b\b\b\b\b\b\b\b\b\b\b\b\b\b\b\b\b\b\b\b\b\b\b\b\b\b\b\b\b\b\b\b\b\n",
      "Epoch 157/2000\n",
      "1/1 [==============================] - 0s 32ms/step - loss: 0.3549 - accuracy: 0.8482 - val_loss: 0.3578 - val_accuracy: 0.8426\b\b\b\b\b\b\b\b\b\b\b\b\b\b\b\b\b\b\b\b\b\b\b\b\b\b\b\b\b\b\b\b\b\n",
      "Epoch 158/2000\n",
      "1/1 [==============================] - 0s 31ms/step - loss: 0.3598 - accuracy: 0.8448 - val_loss: 0.3535 - val_accuracy: 0.8506\b\b\b\b\b\b\b\b\b\b\b\b\b\b\b\b\b\b\b\b\b\b\b\b\b\b\b\b\b\b\b\b\b\n",
      "Epoch 159/2000\n",
      "1/1 [==============================] - 0s 28ms/step - loss: 0.3550 - accuracy: 0.8529 - val_loss: 0.3524 - val_accuracy: 0.8511\b\b\b\b\b\b\b\b\b\b\b\b\b\b\b\b\b\b\b\b\b\b\b\b\b\b\b\b\b\b\b\b\b\n",
      "Epoch 160/2000\n",
      "1/1 [==============================] - 0s 29ms/step - loss: 0.3530 - accuracy: 0.8524 - val_loss: 0.3559 - val_accuracy: 0.8557\b\b\b\b\b\b\b\b\b\b\b\b\b\b\b\b\b\b\b\b\b\b\b\b\b\b\b\b\b\b\b\b\b\n",
      "Epoch 161/2000\n",
      "1/1 [==============================] - 0s 31ms/step - loss: 0.3561 - accuracy: 0.8565 - val_loss: 0.3515 - val_accuracy: 0.8456\b\b\b\b\b\b\b\b\b\b\b\b\b\b\b\b\b\b\b\b\b\b\b\b\b\b\b\b\b\b\b\b\b\n",
      "Epoch 162/2000\n",
      "1/1 [==============================] - 0s 30ms/step - loss: 0.3518 - accuracy: 0.8485 - val_loss: 0.3549 - val_accuracy: 0.8294\b\b\b\b\b\b\b\b\b\b\b\b\b\b\b\b\b\b\b\b\b\b\b\b\b\b\b\b\b\b\b\b\b\n",
      "Epoch 163/2000\n",
      "1/1 [==============================] - 0s 31ms/step - loss: 0.3555 - accuracy: 0.8325 - val_loss: 0.3485 - val_accuracy: 0.8502\b\b\b\b\b\b\b\b\b\b\b\b\b\b\b\b\b\b\b\b\b\b\b\b\b\b\b\b\b\b\b\b\b\n",
      "Epoch 164/2000\n",
      "1/1 [==============================] - 0s 33ms/step - loss: 0.3492 - accuracy: 0.8523 - val_loss: 0.3498 - val_accuracy: 0.8499\b\b\b\b\b\b\b\b\b\b\b\b\b\b\b\b\b\b\b\b\b\b\b\b\b\b\b\b\b\b\b\b\b\n",
      "Epoch 165/2000\n",
      "1/1 [==============================] - 0s 31ms/step - loss: 0.3505 - accuracy: 0.8511 - val_loss: 0.3490 - val_accuracy: 0.8484\b\b\b\b\b\b\b\b\b\b\b\b\b\b\b\b\b\b\b\b\b\b\b\b\b\b\b\b\b\b\b\b\b\n",
      "Epoch 166/2000\n",
      "1/1 [==============================] - 0s 25ms/step - loss: 0.3501 - accuracy: 0.8501 - val_loss: 0.3475 - val_accuracy: 0.8521\b\b\b\b\b\b\b\b\b\b\b\b\b\b\b\b\b\b\b\b\b\b\b\b\b\b\b\b\b\b\b\b\b\n",
      "Epoch 167/2000\n",
      "1/1 [==============================] - 0s 25ms/step - loss: 0.3490 - accuracy: 0.8534 - val_loss: 0.3478 - val_accuracy: 0.8529\b\b\b\b\b\b\b\b\b\b\b\b\b\b\b\b\b\b\b\b\b\b\b\b\b\b\b\b\b\b\b\b\b\n",
      "Epoch 168/2000\n",
      "1/1 [==============================] - 0s 28ms/step - loss: 0.3493 - accuracy: 0.8544 - val_loss: 0.3452 - val_accuracy: 0.8564\b\b\b\b\b\b\b\b\b\b\b\b\b\b\b\b\b\b\b\b\b\b\b\b\b\b\b\b\b\b\b\b\b\n",
      "Epoch 169/2000\n",
      "1/1 [==============================] - 0s 26ms/step - loss: 0.3464 - accuracy: 0.8580 - val_loss: 0.3470 - val_accuracy: 0.8567\b\b\b\b\b\b\b\b\b\b\b\b\b\b\b\b\b\b\b\b\b\b\b\b\b\b\b\b\b\b\b\b\b\n",
      "Epoch 170/2000\n",
      "1/1 [==============================] - 0s 25ms/step - loss: 0.3480 - accuracy: 0.8583 - val_loss: 0.3455 - val_accuracy: 0.8564\b\b\b\b\b\b\b\b\b\b\b\b\b\b\b\b\b\b\b\b\b\b\b\b\b\b\b\b\b\b\b\b\b\n",
      "Epoch 171/2000\n",
      "1/1 [==============================] - 0s 26ms/step - loss: 0.3464 - accuracy: 0.8589 - val_loss: 0.3453 - val_accuracy: 0.8453\b\b\b\b\b\b\b\b\b\b\b\b\b\b\b\b\b\b\b\b\b\b\b\b\b\b\b\b\b\b\b\b\b\n",
      "Epoch 172/2000\n",
      "1/1 [==============================] - 0s 25ms/step - loss: 0.3462 - accuracy: 0.8480 - val_loss: 0.3434 - val_accuracy: 0.8563\b\b\b\b\b\b\b\b\b\b\b\b\b\b\b\b\b\b\b\b\b\b\b\b\b\b\b\b\b\b\b\b\b\n",
      "Epoch 173/2000\n",
      "1/1 [==============================] - 0s 24ms/step - loss: 0.3445 - accuracy: 0.8579 - val_loss: 0.3440 - val_accuracy: 0.8483\b\b\b\b\b\b\b\b\b\b\b\b\b\b\b\b\b\b\b\b\b\b\b\b\b\b\b\b\b\b\b\b\b\n",
      "Epoch 174/2000\n",
      "1/1 [==============================] - 0s 25ms/step - loss: 0.3452 - accuracy: 0.8501 - val_loss: 0.3438 - val_accuracy: 0.8481\b\b\b\b\b\b\b\b\b\b\b\b\b\b\b\b\b\b\b\b\b\b\b\b\b\b\b\b\b\b\b\b\b\n",
      "Epoch 175/2000\n",
      "1/1 [==============================] - 0s 24ms/step - loss: 0.3451 - accuracy: 0.8498 - val_loss: 0.3423 - val_accuracy: 0.8549\b\b\b\b\b\b\b\b\b\b\b\b\b\b\b\b\b\b\b\b\b\b\b\b\b\b\b\b\b\b\b\b\b\n",
      "Epoch 176/2000\n",
      "1/1 [==============================] - 0s 24ms/step - loss: 0.3436 - accuracy: 0.8563 - val_loss: 0.3419 - val_accuracy: 0.8559\b\b\b\b\b\b\b\b\b\b\b\b\b\b\b\b\b\b\b\b\b\b\b\b\b\b\b\b\b\b\b\b\b\n",
      "Epoch 177/2000\n",
      "1/1 [==============================] - 0s 26ms/step - loss: 0.3431 - accuracy: 0.8576 - val_loss: 0.3414 - val_accuracy: 0.8582\b\b\b\b\b\b\b\b\b\b\b\b\b\b\b\b\b\b\b\b\b\b\b\b\b\b\b\b\b\b\b\b\b\n",
      "Epoch 178/2000\n",
      "1/1 [==============================] - 0s 26ms/step - loss: 0.3426 - accuracy: 0.8602 - val_loss: 0.3419 - val_accuracy: 0.8583\b\b\b\b\b\b\b\b\b\b\b\b\b\b\b\b\b\b\b\b\b\b\b\b\b\b\b\b\b\b\b\b\b\n",
      "Epoch 179/2000\n",
      "1/1 [==============================] - 0s 26ms/step - loss: 0.3431 - accuracy: 0.8602 - val_loss: 0.3406 - val_accuracy: 0.8584\b\b\b\b\b\b\b\b\b\b\b\b\b\b\b\b\b\b\b\b\b\b\b\b\b\b\b\b\b\b\b\b\b\n",
      "Epoch 180/2000\n",
      "1/1 [==============================] - 0s 24ms/step - loss: 0.3419 - accuracy: 0.8603 - val_loss: 0.3401 - val_accuracy: 0.8569\b\b\b\b\b\b\b\b\b\b\b\b\b\b\b\b\b\b\b\b\b\b\b\b\b\b\b\b\b\b\b\b\b\n",
      "Epoch 181/2000\n",
      "1/1 [==============================] - 0s 26ms/step - loss: 0.3415 - accuracy: 0.8590 - val_loss: 0.3396 - val_accuracy: 0.8561\b\b\b\b\b\b\b\b\b\b\b\b\b\b\b\b\b\b\b\b\b\b\b\b\b\b\b\b\b\b\b\b\b\n",
      "Epoch 182/2000\n",
      "1/1 [==============================] - 0s 25ms/step - loss: 0.3410 - accuracy: 0.8583 - val_loss: 0.3396 - val_accuracy: 0.8545\b\b\b\b\b\b\b\b\b\b\b\b\b\b\b\b\b\b\b\b\b\b\b\b\b\b\b\b\b\b\b\b\b\n",
      "Epoch 183/2000\n",
      "1/1 [==============================] - 0s 24ms/step - loss: 0.3411 - accuracy: 0.8563 - val_loss: 0.3389 - val_accuracy: 0.8567\b\b\b\b\b\b\b\b\b\b\b\b\b\b\b\b\b\b\b\b\b\b\b\b\b\b\b\b\b\b\b\b\b\n",
      "Epoch 184/2000\n",
      "1/1 [==============================] - 0s 29ms/step - loss: 0.3402 - accuracy: 0.8588 - val_loss: 0.3389 - val_accuracy: 0.8572\b\b\b\b\b\b\b\b\b\b\b\b\b\b\b\b\b\b\b\b\b\b\b\b\b\b\b\b\b\b\b\b\b\n",
      "Epoch 185/2000\n",
      "1/1 [==============================] - 0s 26ms/step - loss: 0.3400 - accuracy: 0.8595 - val_loss: 0.3384 - val_accuracy: 0.8595\b\b\b\b\b\b\b\b\b\b\b\b\b\b\b\b\b\b\b\b\b\b\b\b\b\b\b\b\b\b\b\b\b\n",
      "Epoch 186/2000\n",
      "1/1 [==============================] - 0s 24ms/step - loss: 0.3395 - accuracy: 0.8612 - val_loss: 0.3382 - val_accuracy: 0.8602\b\b\b\b\b\b\b\b\b\b\b\b\b\b\b\b\b\b\b\b\b\b\b\b\b\b\b\b\b\b\b\b\b\n",
      "Epoch 187/2000\n",
      "1/1 [==============================] - 0s 24ms/step - loss: 0.3394 - accuracy: 0.8621 - val_loss: 0.3373 - val_accuracy: 0.8587\b\b\b\b\b\b\b\b\b\b\b\b\b\b\b\b\b\b\b\b\b\b\b\b\b\b\b\b\b\b\b\b\b\n",
      "Epoch 188/2000\n",
      "1/1 [==============================] - 0s 24ms/step - loss: 0.3385 - accuracy: 0.8608 - val_loss: 0.3369 - val_accuracy: 0.8582\b\b\b\b\b\b\b\b\b\b\b\b\b\b\b\b\b\b\b\b\b\b\b\b\b\b\b\b\b\b\b\b\b\n",
      "Epoch 189/2000\n",
      "1/1 [==============================] - 0s 25ms/step - loss: 0.3383 - accuracy: 0.8603 - val_loss: 0.3366 - val_accuracy: 0.8588\b\b\b\b\b\b\b\b\b\b\b\b\b\b\b\b\b\b\b\b\b\b\b\b\b\b\b\b\b\b\b\b\b\n",
      "Epoch 190/2000\n",
      "1/1 [==============================] - 0s 24ms/step - loss: 0.3381 - accuracy: 0.8607 - val_loss: 0.3361 - val_accuracy: 0.8587\b\b\b\b\b\b\b\b\b\b\b\b\b\b\b\b\b\b\b\b\b\b\b\b\b\b\b\b\b\b\b\b\b\n",
      "Epoch 191/2000\n",
      "1/1 [==============================] - 0s 26ms/step - loss: 0.3376 - accuracy: 0.8609 - val_loss: 0.3358 - val_accuracy: 0.8579\b\b\b\b\b\b\b\b\b\b\b\b\b\b\b\b\b\b\b\b\b\b\b\b\b\b\b\b\b\b\b\b\b\n",
      "Epoch 192/2000\n",
      "1/1 [==============================] - 0s 24ms/step - loss: 0.3371 - accuracy: 0.8603 - val_loss: 0.3353 - val_accuracy: 0.8597\b\b\b\b\b\b\b\b\b\b\b\b\b\b\b\b\b\b\b\b\b\b\b\b\b\b\b\b\b\b\b\b\b\n",
      "Epoch 193/2000\n",
      "1/1 [==============================] - 0s 24ms/step - loss: 0.3366 - accuracy: 0.8616 - val_loss: 0.3351 - val_accuracy: 0.8600\b\b\b\b\b\b\b\b\b\b\b\b\b\b\b\b\b\b\b\b\b\b\b\b\b\b\b\b\b\b\b\b\b\n",
      "Epoch 194/2000\n",
      "1/1 [==============================] - 0s 24ms/step - loss: 0.3364 - accuracy: 0.8622 - val_loss: 0.3348 - val_accuracy: 0.8584\b\b\b\b\b\b\b\b\b\b\b\b\b\b\b\b\b\b\b\b\b\b\b\b\b\b\b\b\b\b\b\b\b\n",
      "Epoch 195/2000\n",
      "1/1 [==============================] - 0s 24ms/step - loss: 0.3360 - accuracy: 0.8607 - val_loss: 0.3342 - val_accuracy: 0.8593\b\b\b\b\b\b\b\b\b\b\b\b\b\b\b\b\b\b\b\b\b\b\b\b\b\b\b\b\b\b\b\b\b\n",
      "Epoch 196/2000\n",
      "1/1 [==============================] - 0s 24ms/step - loss: 0.3355 - accuracy: 0.8613 - val_loss: 0.3338 - val_accuracy: 0.8594\b\b\b\b\b\b\b\b\b\b\b\b\b\b\b\b\b\b\b\b\b\b\b\b\b\b\b\b\b\b\b\b\b\n",
      "Epoch 197/2000\n",
      "1/1 [==============================] - 0s 26ms/step - loss: 0.3352 - accuracy: 0.8613 - val_loss: 0.3335 - val_accuracy: 0.8585\b\b\b\b\b\b\b\b\b\b\b\b\b\b\b\b\b\b\b\b\b\b\b\b\b\b\b\b\b\b\b\b\b\n",
      "Epoch 198/2000\n",
      "1/1 [==============================] - 0s 25ms/step - loss: 0.3348 - accuracy: 0.8607 - val_loss: 0.3329 - val_accuracy: 0.8596\b\b\b\b\b\b\b\b\b\b\b\b\b\b\b\b\b\b\b\b\b\b\b\b\b\b\b\b\b\b\b\b\b\n",
      "Epoch 199/2000\n",
      "1/1 [==============================] - 0s 25ms/step - loss: 0.3343 - accuracy: 0.8615 - val_loss: 0.3326 - val_accuracy: 0.8599\b\b\b\b\b\b\b\b\b\b\b\b\b\b\b\b\b\b\b\b\b\b\b\b\b\b\b\b\b\b\b\b\b\n",
      "Epoch 200/2000\n",
      "1/1 [==============================] - 0s 26ms/step - loss: 0.3341 - accuracy: 0.8622 - val_loss: 0.3325 - val_accuracy: 0.8588\b\b\b\b\b\b\b\b\b\b\b\b\b\b\b\b\b\b\b\b\b\b\b\b\b\b\b\b\b\b\b\b\b\n",
      "Epoch 201/2000\n",
      "1/1 [==============================] - 0s 25ms/step - loss: 0.3338 - accuracy: 0.8613 - val_loss: 0.3320 - val_accuracy: 0.8605\b\b\b\b\b\b\b\b\b\b\b\b\b\b\b\b\b\b\b\b\b\b\b\b\b\b\b\b\b\b\b\b\b\n",
      "Epoch 202/2000\n",
      "1/1 [==============================] - 0s 24ms/step - loss: 0.3334 - accuracy: 0.8625 - val_loss: 0.3316 - val_accuracy: 0.8590\b\b\b\b\b\b\b\b\b\b\b\b\b\b\b\b\b\b\b\b\b\b\b\b\b\b\b\b\b\b\b\b\b\n",
      "Epoch 203/2000\n",
      "1/1 [==============================] - 0s 25ms/step - loss: 0.3330 - accuracy: 0.8613 - val_loss: 0.3312 - val_accuracy: 0.8598\b\b\b\b\b\b\b\b\b\b\b\b\b\b\b\b\b\b\b\b\b\b\b\b\b\b\b\b\b\b\b\b\b\n",
      "Epoch 204/2000\n",
      "1/1 [==============================] - 0s 24ms/step - loss: 0.3326 - accuracy: 0.8617 - val_loss: 0.3309 - val_accuracy: 0.8603\b\b\b\b\b\b\b\b\b\b\b\b\b\b\b\b\b\b\b\b\b\b\b\b\b\b\b\b\b\b\b\b\b\n",
      "Epoch 205/2000\n",
      "1/1 [==============================] - 0s 24ms/step - loss: 0.3323 - accuracy: 0.8620 - val_loss: 0.3306 - val_accuracy: 0.8592\b\b\b\b\b\b\b\b\b\b\b\b\b\b\b\b\b\b\b\b\b\b\b\b\b\b\b\b\b\b\b\b\b\n",
      "Epoch 206/2000\n",
      "1/1 [==============================] - 0s 27ms/step - loss: 0.3319 - accuracy: 0.8615 - val_loss: 0.3303 - val_accuracy: 0.8608\b\b\b\b\b\b\b\b\b\b\b\b\b\b\b\b\b\b\b\b\b\b\b\b\b\b\b\b\b\b\b\b\b\n",
      "Epoch 207/2000\n",
      "1/1 [==============================] - 0s 24ms/step - loss: 0.3317 - accuracy: 0.8629 - val_loss: 0.3302 - val_accuracy: 0.8586\b\b\b\b\b\b\b\b\b\b\b\b\b\b\b\b\b\b\b\b\b\b\b\b\b\b\b\b\b\b\b\b\b\n",
      "Epoch 208/2000\n",
      "1/1 [==============================] - 0s 24ms/step - loss: 0.3315 - accuracy: 0.8614 - val_loss: 0.3299 - val_accuracy: 0.8612\b\b\b\b\b\b\b\b\b\b\b\b\b\b\b\b\b\b\b\b\b\b\b\b\b\b\b\b\b\b\b\b\b\n",
      "Epoch 209/2000\n",
      "1/1 [==============================] - 0s 24ms/step - loss: 0.3315 - accuracy: 0.8632 - val_loss: 0.3300 - val_accuracy: 0.8574\b\b\b\b\b\b\b\b\b\b\b\b\b\b\b\b\b\b\b\b\b\b\b\b\b\b\b\b\b\b\b\b\b\n",
      "Epoch 210/2000\n",
      "1/1 [==============================] - 0s 27ms/step - loss: 0.3313 - accuracy: 0.8602 - val_loss: 0.3302 - val_accuracy: 0.8598\b\b\b\b\b\b\b\b\b\b\b\b\b\b\b\b\b\b\b\b\b\b\b\b\b\b\b\b\b\b\b\b\b\n",
      "Epoch 211/2000\n",
      "1/1 [==============================] - 0s 28ms/step - loss: 0.3319 - accuracy: 0.8615 - val_loss: 0.3297 - val_accuracy: 0.8557\b\b\b\b\b\b\b\b\b\b\b\b\b\b\b\b\b\b\b\b\b\b\b\b\b\b\b\b\b\b\b\b\b\n",
      "Epoch 212/2000\n",
      "1/1 [==============================] - 0s 24ms/step - loss: 0.3310 - accuracy: 0.8582 - val_loss: 0.3298 - val_accuracy: 0.8605\b\b\b\b\b\b\b\b\b\b\b\b\b\b\b\b\b\b\b\b\b\b\b\b\b\b\b\b\b\b\b\b\b\n",
      "Epoch 213/2000\n",
      "1/1 [==============================] - 0s 25ms/step - loss: 0.3315 - accuracy: 0.8621 - val_loss: 0.3292 - val_accuracy: 0.8548\b\b\b\b\b\b\b\b\b\b\b\b\b\b\b\b\b\b\b\b\b\b\b\b\b\b\b\b\b\b\b\b\b\n",
      "Epoch 214/2000\n",
      "1/1 [==============================] - 0s 26ms/step - loss: 0.3305 - accuracy: 0.8574 - val_loss: 0.3294 - val_accuracy: 0.8612\b\b\b\b\b\b\b\b\b\b\b\b\b\b\b\b\b\b\b\b\b\b\b\b\b\b\b\b\b\b\b\b\b\n",
      "Epoch 215/2000\n",
      "1/1 [==============================] - 0s 24ms/step - loss: 0.3312 - accuracy: 0.8624 - val_loss: 0.3290 - val_accuracy: 0.8542\b\b\b\b\b\b\b\b\b\b\b\b\b\b\b\b\b\b\b\b\b\b\b\b\b\b\b\b\b\b\b\b\b\n",
      "Epoch 216/2000\n",
      "1/1 [==============================] - 0s 24ms/step - loss: 0.3303 - accuracy: 0.8575 - val_loss: 0.3303 - val_accuracy: 0.8608\b\b\b\b\b\b\b\b\b\b\b\b\b\b\b\b\b\b\b\b\b\b\b\b\b\b\b\b\b\b\b\b\b\n",
      "Epoch 217/2000\n",
      "1/1 [==============================] - 0s 24ms/step - loss: 0.3321 - accuracy: 0.8622 - val_loss: 0.3281 - val_accuracy: 0.8562\b\b\b\b\b\b\b\b\b\b\b\b\b\b\b\b\b\b\b\b\b\b\b\b\b\b\b\b\b\b\b\b\b\n",
      "Epoch 218/2000\n",
      "1/1 [==============================] - 0s 29ms/step - loss: 0.3295 - accuracy: 0.8584 - val_loss: 0.3275 - val_accuracy: 0.8617\b\b\b\b\b\b\b\b\b\b\b\b\b\b\b\b\b\b\b\b\b\b\b\b\b\b\b\b\b\b\b\b\b\n",
      "Epoch 219/2000\n",
      "1/1 [==============================] - 0s 24ms/step - loss: 0.3292 - accuracy: 0.8636 - val_loss: 0.3274 - val_accuracy: 0.8563\b\b\b\b\b\b\b\b\b\b\b\b\b\b\b\b\b\b\b\b\b\b\b\b\b\b\b\b\b\b\b\b\b\n",
      "Epoch 220/2000\n",
      "1/1 [==============================] - 0s 26ms/step - loss: 0.3288 - accuracy: 0.8583 - val_loss: 0.3291 - val_accuracy: 0.8619\b\b\b\b\b\b\b\b\b\b\b\b\b\b\b\b\b\b\b\b\b\b\b\b\b\b\b\b\b\b\b\b\b\n",
      "Epoch 221/2000\n",
      "1/1 [==============================] - 0s 26ms/step - loss: 0.3308 - accuracy: 0.8629 - val_loss: 0.3291 - val_accuracy: 0.8531\b\b\b\b\b\b\b\b\b\b\b\b\b\b\b\b\b\b\b\b\b\b\b\b\b\b\b\b\b\b\b\b\b\n",
      "Epoch 222/2000\n",
      "1/1 [==============================] - 0s 25ms/step - loss: 0.3304 - accuracy: 0.8558 - val_loss: 0.3355 - val_accuracy: 0.8529\b\b\b\b\b\b\b\b\b\b\b\b\b\b\b\b\b\b\b\b\b\b\b\b\b\b\b\b\b\b\b\b\b\n",
      "Epoch 223/2000\n",
      "1/1 [==============================] - 0s 24ms/step - loss: 0.3373 - accuracy: 0.8535 - val_loss: 0.3264 - val_accuracy: 0.8605\b\b\b\b\b\b\b\b\b\b\b\b\b\b\b\b\b\b\b\b\b\b\b\b\b\b\b\b\b\b\b\b\b\n",
      "Epoch 224/2000\n",
      "1/1 [==============================] - 0s 25ms/step - loss: 0.3281 - accuracy: 0.8627 - val_loss: 0.3682 - val_accuracy: 0.8341\b\b\b\b\b\b\b\b\b\b\b\b\b\b\b\b\b\b\b\b\b\b\b\b\b\b\b\b\b\b\b\b\b\n",
      "Epoch 225/2000\n",
      "1/1 [==============================] - 0s 26ms/step - loss: 0.3685 - accuracy: 0.8365 - val_loss: 0.3922 - val_accuracy: 0.8087\b\b\b\b\b\b\b\b\b\b\b\b\b\b\b\b\b\b\b\b\b\b\b\b\b\b\b\b\b\b\b\b\b\n",
      "Epoch 226/2000\n",
      "1/1 [==============================] - 0s 26ms/step - loss: 0.3935 - accuracy: 0.8094 - val_loss: 0.4346 - val_accuracy: 0.7783\b\b\b\b\b\b\b\b\b\b\b\b\b\b\b\b\b\b\b\b\b\b\b\b\b\b\b\b\b\b\b\b\b\n",
      "Epoch 227/2000\n",
      "1/1 [==============================] - 0s 26ms/step - loss: 0.4342 - accuracy: 0.7807 - val_loss: 0.4101 - val_accuracy: 0.7962\b\b\b\b\b\b\b\b\b\b\b\b\b\b\b\b\b\b\b\b\b\b\b\b\b\b\b\b\b\b\b\b\b\n",
      "Epoch 228/2000\n",
      "1/1 [==============================] - 0s 27ms/step - loss: 0.4107 - accuracy: 0.7975 - val_loss: 0.3632 - val_accuracy: 0.8400\b\b\b\b\b\b\b\b\b\b\b\b\b\b\b\b\b\b\b\b\b\b\b\b\b\b\b\b\b\b\b\b\b\n",
      "Epoch 229/2000\n",
      "1/1 [==============================] - 0s 27ms/step - loss: 0.3647 - accuracy: 0.8411 - val_loss: 0.3977 - val_accuracy: 0.8156\b\b\b\b\b\b\b\b\b\b\b\b\b\b\b\b\b\b\b\b\b\b\b\b\b\b\b\b\b\b\b\b\b\n",
      "Epoch 230/2000\n",
      "1/1 [==============================] - 0s 25ms/step - loss: 0.3986 - accuracy: 0.8151 - val_loss: 0.3851 - val_accuracy: 0.8195\b\b\b\b\b\b\b\b\b\b\b\b\b\b\b\b\b\b\b\b\b\b\b\b\b\b\b\b\b\b\b\b\b\n",
      "Epoch 231/2000\n",
      "1/1 [==============================] - 0s 29ms/step - loss: 0.3863 - accuracy: 0.8181 - val_loss: 0.3655 - val_accuracy: 0.8393\b\b\b\b\b\b\b\b\b\b\b\b\b\b\b\b\b\b\b\b\b\b\b\b\b\b\b\b\b\b\b\b\b\n",
      "Epoch 232/2000\n",
      "1/1 [==============================] - 0s 24ms/step - loss: 0.3677 - accuracy: 0.8409 - val_loss: 0.3818 - val_accuracy: 0.8060\b\b\b\b\b\b\b\b\b\b\b\b\b\b\b\b\b\b\b\b\b\b\b\b\b\b\b\b\b\b\b\b\b\n",
      "Epoch 233/2000\n",
      "1/1 [==============================] - 0s 24ms/step - loss: 0.3839 - accuracy: 0.8073 - val_loss: 0.3903 - val_accuracy: 0.8034\b\b\b\b\b\b\b\b\b\b\b\b\b\b\b\b\b\b\b\b\b\b\b\b\b\b\b\b\b\b\b\b\b\n",
      "\n",
      "Epoch 00233: ReduceLROnPlateau reducing learning rate to 0.000750000006519258.\n",
      "Epoch 234/2000\n",
      "1/1 [==============================] - 0s 26ms/step - loss: 0.3917 - accuracy: 0.8048 - val_loss: 0.3865 - val_accuracy: 0.8055\b\b\b\b\b\b\b\b\b\b\b\b\b\b\b\b\b\b\b\b\b\b\b\b\b\b\b\b\b\b\b\b\b\n",
      "Epoch 235/2000\n",
      "1/1 [==============================] - 0s 23ms/step - loss: 0.3882 - accuracy: 0.8067 - val_loss: 0.3766 - val_accuracy: 0.8115\b\b\b\b\b\b\b\b\b\b\b\b\b\b\b\b\b\b\b\b\b\b\b\b\b\b\b\b\b\b\b\b\b\n",
      "Epoch 236/2000\n",
      "1/1 [==============================] - 0s 24ms/step - loss: 0.3790 - accuracy: 0.8129 - val_loss: 0.3648 - val_accuracy: 0.8362\b\b\b\b\b\b\b\b\b\b\b\b\b\b\b\b\b\b\b\b\b\b\b\b\b\b\b\b\b\b\b\b\b\n",
      "Epoch 237/2000\n",
      "1/1 [==============================] - 0s 25ms/step - loss: 0.3679 - accuracy: 0.8381 - val_loss: 0.3534 - val_accuracy: 0.8359\b\b\b\b\b\b\b\b\b\b\b\b\b\b\b\b\b\b\b\b\b\b\b\b\b\b\b\b\b\b\b\b\b\n",
      "Epoch 238/2000\n",
      "1/1 [==============================] - 0s 24ms/step - loss: 0.3565 - accuracy: 0.8379 - val_loss: 0.3535 - val_accuracy: 0.8244\b\b\b\b\b\b\b\b\b\b\b\b\b\b\b\b\b\b\b\b\b\b\b\b\b\b\b\b\b\b\b\b\b\n",
      "Epoch 239/2000\n",
      "1/1 [==============================] - 0s 24ms/step - loss: 0.3568 - accuracy: 0.8251 - val_loss: 0.3701 - val_accuracy: 0.8163\b\b\b\b\b\b\b\b\b\b\b\b\b\b\b\b\b\b\b\b\b\b\b\b\b\b\b\b\b\b\b\b\b\n",
      "Epoch 240/2000\n",
      "1/1 [==============================] - 0s 29ms/step - loss: 0.3730 - accuracy: 0.8158 - val_loss: 0.3618 - val_accuracy: 0.8204\b\b\b\b\b\b\b\b\b\b\b\b\b\b\b\b\b\b\b\b\b\b\b\b\b\b\b\b\b\b\b\b\b\n",
      "Epoch 241/2000\n",
      "1/1 [==============================] - 0s 24ms/step - loss: 0.3649 - accuracy: 0.8188 - val_loss: 0.3486 - val_accuracy: 0.8306\b\b\b\b\b\b\b\b\b\b\b\b\b\b\b\b\b\b\b\b\b\b\b\b\b\b\b\b\b\b\b\b\b\n",
      "Epoch 242/2000\n",
      "1/1 [==============================] - 0s 24ms/step - loss: 0.3518 - accuracy: 0.8321 - val_loss: 0.3541 - val_accuracy: 0.8371\b\b\b\b\b\b\b\b\b\b\b\b\b\b\b\b\b\b\b\b\b\b\b\b\b\b\b\b\b\b\b\b\b\n",
      "Epoch 243/2000\n",
      "1/1 [==============================] - 0s 25ms/step - loss: 0.3571 - accuracy: 0.8394 - val_loss: 0.3613 - val_accuracy: 0.8390\b\b\b\b\b\b\b\b\b\b\b\b\b\b\b\b\b\b\b\b\b\b\b\b\b\b\b\b\b\b\b\b\b\n",
      "\n",
      "Epoch 00243: ReduceLROnPlateau reducing learning rate to 0.000375000003259629.\n",
      "Epoch 244/2000\n",
      "1/1 [==============================] - 0s 25ms/step - loss: 0.3642 - accuracy: 0.8407 - val_loss: 0.3620 - val_accuracy: 0.8389\b\b\b\b\b\b\b\b\b\b\b\b\b\b\b\b\b\b\b\b\b\b\b\b\b\b\b\b\b\b\b\b\b\n",
      "Epoch 245/2000\n",
      "1/1 [==============================] - 0s 24ms/step - loss: 0.3648 - accuracy: 0.8405 - val_loss: 0.3597 - val_accuracy: 0.8392\b\b\b\b\b\b\b\b\b\b\b\b\b\b\b\b\b\b\b\b\b\b\b\b\b\b\b\b\b\b\b\b\b\n",
      "Epoch 246/2000\n",
      "1/1 [==============================] - 0s 24ms/step - loss: 0.3624 - accuracy: 0.8409 - val_loss: 0.3551 - val_accuracy: 0.8382\b\b\b\b\b\b\b\b\b\b\b\b\b\b\b\b\b\b\b\b\b\b\b\b\b\b\b\b\b\b\b\b\b\n",
      "Epoch 247/2000\n",
      "1/1 [==============================] - 0s 24ms/step - loss: 0.3577 - accuracy: 0.8401 - val_loss: 0.3501 - val_accuracy: 0.8350\b\b\b\b\b\b\b\b\b\b\b\b\b\b\b\b\b\b\b\b\b\b\b\b\b\b\b\b\b\b\b\b\b\n",
      "Epoch 248/2000\n",
      "1/1 [==============================] - 0s 24ms/step - loss: 0.3527 - accuracy: 0.8370 - val_loss: 0.3486 - val_accuracy: 0.8316\b\b\b\b\b\b\b\b\b\b\b\b\b\b\b\b\b\b\b\b\b\b\b\b\b\b\b\b\b\b\b\b\b\n",
      "Epoch 249/2000\n",
      "1/1 [==============================] - 0s 24ms/step - loss: 0.3513 - accuracy: 0.8328 - val_loss: 0.3512 - val_accuracy: 0.8282\b\b\b\b\b\b\b\b\b\b\b\b\b\b\b\b\b\b\b\b\b\b\b\b\b\b\b\b\b\b\b\b\b\n",
      "Epoch 250/2000\n",
      "1/1 [==============================] - 0s 26ms/step - loss: 0.3539 - accuracy: 0.8292 - val_loss: 0.3543 - val_accuracy: 0.8239\b\b\b\b\b\b\b\b\b\b\b\b\b\b\b\b\b\b\b\b\b\b\b\b\b\b\b\b\b\b\b\b\b\n",
      "Epoch 251/2000\n",
      "1/1 [==============================] - 0s 23ms/step - loss: 0.3571 - accuracy: 0.8243 - val_loss: 0.3535 - val_accuracy: 0.8247\b\b\b\b\b\b\b\b\b\b\b\b\b\b\b\b\b\b\b\b\b\b\b\b\b\b\b\b\b\b\b\b\b\n",
      "Epoch 252/2000\n",
      "1/1 [==============================] - 0s 24ms/step - loss: 0.3563 - accuracy: 0.8255 - val_loss: 0.3496 - val_accuracy: 0.8297\b\b\b\b\b\b\b\b\b\b\b\b\b\b\b\b\b\b\b\b\b\b\b\b\b\b\b\b\b\b\b\b\b\n",
      "Epoch 253/2000\n",
      "1/1 [==============================] - 0s 25ms/step - loss: 0.3525 - accuracy: 0.8300 - val_loss: 0.3471 - val_accuracy: 0.8329\b\b\b\b\b\b\b\b\b\b\b\b\b\b\b\b\b\b\b\b\b\b\b\b\b\b\b\b\b\b\b\b\b\n",
      "\n",
      "Epoch 00253: ReduceLROnPlateau reducing learning rate to 0.0001875000016298145.\n",
      "Restoring model weights from the end of the best epoch.\n",
      "Epoch 00253: early stopping\n"
     ]
    }
   ],
   "source": [
    "history = model.fit(X_train, y_train.values, epochs=2000, batch_size=batch_size, validation_split=0.15, callbacks=[redlr, earlystop] )"
   ]
  },
  {
   "cell_type": "code",
   "execution_count": 100,
   "metadata": {},
   "outputs": [],
   "source": [
    "model.save('less_features_fanning_layers_1024max_higher_starting_lr_no_dropout.h5')"
   ]
  },
  {
   "cell_type": "code",
   "execution_count": 101,
   "metadata": {
    "pycharm": {
     "name": "#%%\n"
    }
   },
   "outputs": [],
   "source": [
    "y_pred = model.predict(X_test)"
   ]
  },
  {
   "cell_type": "code",
   "execution_count": 102,
   "metadata": {
    "pycharm": {
     "name": "#%%\n"
    }
   },
   "outputs": [
    {
     "data": {
      "text/plain": "0.5832054"
     },
     "execution_count": 102,
     "metadata": {},
     "output_type": "execute_result"
    }
   ],
   "source": [
    "precision = tf.keras.metrics.Precision()\n",
    "precision.update_state(y_test, y_pred)\n",
    "precision.result().numpy()"
   ]
  },
  {
   "cell_type": "code",
   "execution_count": 103,
   "metadata": {
    "pycharm": {
     "name": "#%%\n"
    }
   },
   "outputs": [
    {
     "data": {
      "text/plain": "0.9972205"
     },
     "execution_count": 103,
     "metadata": {},
     "output_type": "execute_result"
    }
   ],
   "source": [
    "recall = tf.keras.metrics.Recall()\n",
    "recall.update_state(y_test, y_pred)\n",
    "recall.result().numpy()"
   ]
  },
  {
   "cell_type": "code",
   "execution_count": 104,
   "metadata": {
    "pycharm": {
     "name": "#%%\n"
    }
   },
   "outputs": [
    {
     "data": {
      "text/plain": "0.6060705"
     },
     "execution_count": 104,
     "metadata": {},
     "output_type": "execute_result"
    }
   ],
   "source": [
    "accuracy = tf.keras.metrics.BinaryAccuracy()\n",
    "accuracy.update_state(y_test, y_pred)\n",
    "accuracy.result().numpy()"
   ]
  },
  {
   "cell_type": "code",
   "execution_count": 105,
   "metadata": {
    "collapsed": false,
    "jupyter": {
     "outputs_hidden": false
    },
    "pycharm": {
     "name": "#%%\n"
    }
   },
   "outputs": [],
   "source": [
    "actual_prediction = np.round(y_pred)\n",
    "\n",
    "# actually normal, predicted normal\n",
    "normal_traffic_indices = np.argwhere(y_test.to_numpy()==0)\n",
    "normal_traffic_indices = normal_traffic_indices.reshape((len(normal_traffic_indices),))\n",
    "attack_traffic_indices = np.argwhere(y_test.to_numpy()==1)\n",
    "attack_traffic_indices = attack_traffic_indices.reshape((len(attack_traffic_indices),))"
   ]
  },
  {
   "cell_type": "code",
   "execution_count": 106,
   "metadata": {
    "collapsed": false,
    "jupyter": {
     "outputs_hidden": false
    },
    "pycharm": {
     "name": "#%%\n"
    }
   },
   "outputs": [
    {
     "name": "stdout",
     "output_type": "stream",
     "text": [
      "classified 4693 out of 37000 normal traffic patterns as normal 0.12683783783783784%\n"
     ]
    }
   ],
   "source": [
    "tn = len(np.where(np.take(actual_prediction, normal_traffic_indices, axis=0)==0)[0])\n",
    "norm = len(normal_traffic_indices)\n",
    "print(f'classified {tn} out of {norm} normal traffic patterns as normal {tn/norm}%')"
   ]
  },
  {
   "cell_type": "code",
   "execution_count": 107,
   "metadata": {
    "collapsed": false,
    "jupyter": {
     "outputs_hidden": false
    },
    "pycharm": {
     "name": "#%%\n"
    }
   },
   "outputs": [
    {
     "name": "stdout",
     "output_type": "stream",
     "text": [
      "classified 126 out of 45332 attack traffic patterns as normal 0.002779493514515133%\n"
     ]
    }
   ],
   "source": [
    "fn = len(np.where(np.take(actual_prediction, attack_traffic_indices, axis=0)==0)[0])\n",
    "attack = len(attack_traffic_indices)\n",
    "print(f'classified {fn} out of {attack} attack traffic patterns as normal {fn/attack}%')"
   ]
  },
  {
   "cell_type": "code",
   "execution_count": 108,
   "metadata": {
    "collapsed": false,
    "jupyter": {
     "outputs_hidden": false
    },
    "pycharm": {
     "name": "#%%\n"
    }
   },
   "outputs": [
    {
     "name": "stdout",
     "output_type": "stream",
     "text": [
      "classified 32307 out of 37000 normal traffic patterns as attack 0.8731621621621621%\n"
     ]
    }
   ],
   "source": [
    "fp = len(np.where(np.take(actual_prediction, normal_traffic_indices, axis=0)==1)[0])\n",
    "print(f'classified {fp} out of {norm} normal traffic patterns as attack {fp/norm}%')"
   ]
  },
  {
   "cell_type": "code",
   "execution_count": 109,
   "metadata": {
    "collapsed": false,
    "jupyter": {
     "outputs_hidden": false
    },
    "pycharm": {
     "name": "#%%\n"
    }
   },
   "outputs": [
    {
     "name": "stdout",
     "output_type": "stream",
     "text": [
      "classified 45206 out of 45332 attack traffic patterns as attack 0.9972205064854849%\n"
     ]
    }
   ],
   "source": [
    "tp = len(np.where(np.take(actual_prediction, attack_traffic_indices, axis=0)==1)[0])\n",
    "print(f'classified {tp} out of {attack} attack traffic patterns as attack {tp/attack}%')"
   ]
  },
  {
   "cell_type": "code",
   "execution_count": 110,
   "metadata": {},
   "outputs": [
    {
     "name": "stdout",
     "output_type": "stream",
     "text": [
      "('You must install pydot (`pip install pydot`) and install graphviz (see instructions at https://graphviz.gitlab.io/download/) ', 'for plot_model/model_to_dot to work.')\n"
     ]
    }
   ],
   "source": [
    "tf.keras.utils.plot_model(model, to_file='model_plot.png', show_shapes=True, show_layer_names=False)"
   ]
  },
  {
   "cell_type": "code",
   "execution_count": 110,
   "metadata": {},
   "outputs": [],
   "source": []
  }
 ],
 "metadata": {
  "kernelspec": {
   "name": "python3",
   "language": "python",
   "display_name": "Python 3"
  },
  "language_info": {
   "codemirror_mode": {
    "name": "ipython",
    "version": 3
   },
   "file_extension": ".py",
   "mimetype": "text/x-python",
   "name": "python",
   "nbconvert_exporter": "python",
   "pygments_lexer": "ipython3",
   "version": "3.9.5"
  }
 },
 "nbformat": 4,
 "nbformat_minor": 4
}
