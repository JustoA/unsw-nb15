{
 "cells": [
  {
   "cell_type": "markdown",
   "metadata": {
    "pycharm": {
     "name": "#%% md\n"
    }
   },
   "source": [
    "### First, import the necessary libraries"
   ]
  },
  {
   "cell_type": "code",
   "execution_count": 1,
   "metadata": {
    "pycharm": {
     "name": "#%%\n"
    }
   },
   "outputs": [],
   "source": [
    "from sklearn.cluster import KMeans\n",
    "import numpy as np\n",
    "import seaborn as sns\n",
    "import csv\n",
    "import os\n",
    "import pandas as pd\n",
    "import tensorflow as tf\n",
    "from tensorflow.keras.layers import Dense, Dropout\n"
   ]
  },
  {
   "cell_type": "code",
   "execution_count": 2,
   "metadata": {
    "pycharm": {
     "name": "#%%\n"
    }
   },
   "outputs": [],
   "source": [
    "from sklearn.preprocessing import MinMaxScaler\n",
    "\n",
    "X_train = pd.read_csv('UNSW-NB15/a part of training and testing set/UNSW_NB15_testing-set.csv', header=0) # they flipped the names.\n",
    "X_test = pd.read_csv('UNSW-NB15/a part of training and testing set/UNSW_NB15_training-set.csv', header=0)\n",
    "\n",
    "X_train = X_train.dropna()\n",
    "X_test=  X_test.dropna()"
   ]
  },
  {
   "cell_type": "markdown",
   "metadata": {
    "pycharm": {
     "name": "#%% md\n"
    }
   },
   "source": [
    "Separate labels from data"
   ]
  },
  {
   "cell_type": "code",
   "execution_count": 3,
   "metadata": {
    "pycharm": {
     "name": "#%%\n"
    }
   },
   "outputs": [],
   "source": [
    "y_train = X_train.iloc[:,-1]\n",
    "X_train = X_train.iloc[:,:-2]\n",
    "\n",
    "y_test = X_test.iloc[:,-1]\n",
    "X_test = X_test.iloc[:,:-2]"
   ]
  },
  {
   "cell_type": "code",
   "execution_count": 4,
   "metadata": {
    "pycharm": {
     "name": "#%%\n"
    }
   },
   "outputs": [
    {
     "data": {
      "text/plain": "0            1\n1            2\n2            3\n3            4\n4            5\n         ...  \n82327    82328\n82328    82329\n82329    82330\n82330    82331\n82331    82332\nName: id, Length: 82332, dtype: int64"
     },
     "execution_count": 4,
     "metadata": {},
     "output_type": "execute_result"
    }
   ],
   "source": [
    "# categorical\n",
    "for col in ['proto', 'service', 'state']:\n",
    "    X_train[col] = pd.Categorical(X_train[col]).codes\n",
    "    X_test[col] = pd.Categorical(X_test[col]).codes\n",
    "#\n",
    "# for col in ['proto', 'service', 'state']:\n",
    "#     X_train[col] = pd.Categorical(X_train[col])\n",
    "#     X_test[col] = pd.Categorical(X_test[col])\n",
    "X_train.pop('id')\n",
    "X_test.pop('id')"
   ]
  },
  {
   "cell_type": "markdown",
   "metadata": {
    "pycharm": {
     "name": "#%% md\n"
    }
   },
   "source": [
    "## Scale the data (BIG, BIG PERFORMANCE INCREASE!!!)"
   ]
  },
  {
   "cell_type": "code",
   "execution_count": 5,
   "metadata": {
    "pycharm": {
     "name": "#%%\n"
    }
   },
   "outputs": [],
   "source": [
    "scaler = MinMaxScaler()\n",
    "X_train = scaler.fit_transform(X_train)\n",
    "\n",
    "X_test = scaler.transform(X_test)"
   ]
  },
  {
   "cell_type": "markdown",
   "metadata": {
    "pycharm": {
     "name": "#%% md\n"
    }
   },
   "source": [
    "## what if I just threw a NN at it, or \"How I became a data scientist in one easy step\""
   ]
  },
  {
   "cell_type": "code",
   "execution_count": 6,
   "metadata": {
    "pycharm": {
     "name": "#%%\n"
    }
   },
   "outputs": [],
   "source": [
    "# define the keras model\n",
    "batch_size = len(X_train)\n",
    "\n",
    "NUM_LAYERS = 20\n",
    "model = tf.keras.Sequential()\n",
    "model.add(Dense(64, input_dim=42, activation='relu'))\n",
    "for x in range(NUM_LAYERS): \n",
    "    model.add(Dropout(0.4))\n",
    "    model.add(Dense(64, activation='relu'))\n",
    "model.add(Dense(1, activation='sigmoid'))"
   ]
  },
  {
   "cell_type": "code",
   "execution_count": 7,
   "metadata": {
    "pycharm": {
     "name": "#%%\n"
    }
   },
   "outputs": [],
   "source": [
    "from tensorflow.keras.optimizers import Adam\n",
    "optim = Adam(learning_rate=0.0005)\n",
    "model.compile(loss = tf.keras.losses.BinaryCrossentropy(), optimizer = optim, metrics=['accuracy'])"
   ]
  },
  {
   "cell_type": "code",
   "execution_count": 8,
   "metadata": {
    "pycharm": {
     "name": "#%%\n"
    }
   },
   "outputs": [],
   "source": [
    "train_dataset = tf.data.Dataset.from_tensor_slices((X_train, y_train.values))\n",
    "train_dataset = train_dataset.shuffle(len(X_train)).batch(batch_size)\n",
    "\n",
    "test_dataset = tf.data.Dataset.from_tensor_slices((X_test, y_test.values))\n",
    "test_dataset = test_dataset.shuffle(len(X_test)).batch(batch_size)"
   ]
  },
  {
   "cell_type": "code",
   "execution_count": 22,
   "metadata": {
    "pycharm": {
     "name": "#%%\n"
    },
    "scrolled": true,
    "tags": []
   },
   "outputs": [
    {
     "name": "stdout",
     "output_type": "stream",
     "text": [
      "Epoch 1/120\n",
      "1/1 [==============================] - 1s 661ms/step - loss: 0.3982 - accuracy: 0.9022 - val_loss: 0.6841 - val_accuracy: 0.7758\b\b\b\b\b\b\b\b\b\b\b\b\b\b\b\b\b\b\b\b\b\b\b\b\b\b\b\b\b\b\b\b\n",
      "Epoch 2/120\n",
      "1/1 [==============================] - 1s 642ms/step - loss: 0.3976 - accuracy: 0.9031 - val_loss: 0.6840 - val_accuracy: 0.7757\b\b\b\b\b\b\b\b\b\b\b\b\b\b\b\b\b\b\b\b\b\b\b\b\b\b\b\b\b\b\b\b\n",
      "Epoch 3/120\n",
      "1/1 [==============================] - 1s 626ms/step - loss: 0.3972 - accuracy: 0.9031 - val_loss: 0.6838 - val_accuracy: 0.7757\b\b\b\b\b\b\b\b\b\b\b\b\b\b\b\b\b\b\b\b\b\b\b\b\b\b\b\b\b\b\b\b\n",
      "Epoch 4/120\n",
      "1/1 [==============================] - 1s 643ms/step - loss: 0.3949 - accuracy: 0.9041 - val_loss: 0.6836 - val_accuracy: 0.7757\b\b\b\b\b\b\b\b\b\b\b\b\b\b\b\b\b\b\b\b\b\b\b\b\b\b\b\b\b\b\b\b\n",
      "Epoch 5/120\n",
      "1/1 [==============================] - 1s 621ms/step - loss: 0.3935 - accuracy: 0.9045 - val_loss: 0.6834 - val_accuracy: 0.7756\b\b\b\b\b\b\b\b\b\b\b\b\b\b\b\b\b\b\b\b\b\b\b\b\b\b\b\b\b\b\b\b\n",
      "Epoch 6/120\n",
      "1/1 [==============================] - 1s 630ms/step - loss: 0.3942 - accuracy: 0.9048 - val_loss: 0.6833 - val_accuracy: 0.7756\b\b\b\b\b\b\b\b\b\b\b\b\b\b\b\b\b\b\b\b\b\b\b\b\b\b\b\b\b\b\b\b\n",
      "Epoch 7/120\n",
      "1/1 [==============================] - 1s 646ms/step - loss: 0.3923 - accuracy: 0.9047 - val_loss: 0.6833 - val_accuracy: 0.7752\b\b\b\b\b\b\b\b\b\b\b\b\b\b\b\b\b\b\b\b\b\b\b\b\b\b\b\b\b\b\b\b\n",
      "Epoch 8/120\n",
      "1/1 [==============================] - 1s 650ms/step - loss: 0.3929 - accuracy: 0.9057 - val_loss: 0.6833 - val_accuracy: 0.7748\b\b\b\b\b\b\b\b\b\b\b\b\b\b\b\b\b\b\b\b\b\b\b\b\b\b\b\b\b\b\b\b\n",
      "Epoch 9/120\n",
      "1/1 [==============================] - 1s 644ms/step - loss: 0.3921 - accuracy: 0.9068 - val_loss: 0.6833 - val_accuracy: 0.7741\b\b\b\b\b\b\b\b\b\b\b\b\b\b\b\b\b\b\b\b\b\b\b\b\b\b\b\b\b\b\b\b\n",
      "Epoch 10/120\n",
      "1/1 [==============================] - 1s 619ms/step - loss: 0.3924 - accuracy: 0.9067 - val_loss: 0.6834 - val_accuracy: 0.7737\b\b\b\b\b\b\b\b\b\b\b\b\b\b\b\b\b\b\b\b\b\b\b\b\b\b\b\b\b\b\b\b\n",
      "Epoch 11/120\n",
      "1/1 [==============================] - 1s 620ms/step - loss: 0.3899 - accuracy: 0.9065 - val_loss: 0.6832 - val_accuracy: 0.7732\b\b\b\b\b\b\b\b\b\b\b\b\b\b\b\b\b\b\b\b\b\b\b\b\b\b\b\b\b\b\b\b\n",
      "Epoch 12/120\n",
      "1/1 [==============================] - 1s 649ms/step - loss: 0.3906 - accuracy: 0.9072 - val_loss: 0.6831 - val_accuracy: 0.7729\b\b\b\b\b\b\b\b\b\b\b\b\b\b\b\b\b\b\b\b\b\b\b\b\b\b\b\b\b\b\b\b\n",
      "Epoch 13/120\n",
      "1/1 [==============================] - 1s 643ms/step - loss: 0.3869 - accuracy: 0.9077 - val_loss: 0.6828 - val_accuracy: 0.7731\b\b\b\b\b\b\b\b\b\b\b\b\b\b\b\b\b\b\b\b\b\b\b\b\b\b\b\b\b\b\b\b\n",
      "Epoch 14/120\n",
      "1/1 [==============================] - 1s 636ms/step - loss: 0.3876 - accuracy: 0.9078 - val_loss: 0.6826 - val_accuracy: 0.7730\b\b\b\b\b\b\b\b\b\b\b\b\b\b\b\b\b\b\b\b\b\b\b\b\b\b\b\b\b\b\b\b\n",
      "Epoch 15/120\n",
      "1/1 [==============================] - 1s 641ms/step - loss: 0.3862 - accuracy: 0.9078 - val_loss: 0.6826 - val_accuracy: 0.7727\b\b\b\b\b\b\b\b\b\b\b\b\b\b\b\b\b\b\b\b\b\b\b\b\b\b\b\b\b\b\b\b\n",
      "Epoch 16/120\n",
      "1/1 [==============================] - 1s 645ms/step - loss: 0.3853 - accuracy: 0.9081 - val_loss: 0.6826 - val_accuracy: 0.7721\b\b\b\b\b\b\b\b\b\b\b\b\b\b\b\b\b\b\b\b\b\b\b\b\b\b\b\b\b\b\b\b\n",
      "Epoch 17/120\n",
      "1/1 [==============================] - 1s 643ms/step - loss: 0.3849 - accuracy: 0.9083 - val_loss: 0.6827 - val_accuracy: 0.7713\b\b\b\b\b\b\b\b\b\b\b\b\b\b\b\b\b\b\b\b\b\b\b\b\b\b\b\b\b\b\b\b\n",
      "Epoch 18/120\n",
      "1/1 [==============================] - 1s 660ms/step - loss: 0.3851 - accuracy: 0.9088 - val_loss: 0.6828 - val_accuracy: 0.7705\b\b\b\b\b\b\b\b\b\b\b\b\b\b\b\b\b\b\b\b\b\b\b\b\b\b\b\b\b\b\b\b\n",
      "Epoch 19/120\n",
      "1/1 [==============================] - 1s 637ms/step - loss: 0.3856 - accuracy: 0.9087 - val_loss: 0.6830 - val_accuracy: 0.7695\b\b\b\b\b\b\b\b\b\b\b\b\b\b\b\b\b\b\b\b\b\b\b\b\b\b\b\b\b\b\b\b\n",
      "Epoch 20/120\n",
      "1/1 [==============================] - 1s 629ms/step - loss: 0.3831 - accuracy: 0.9094 - val_loss: 0.6828 - val_accuracy: 0.7694\b\b\b\b\b\b\b\b\b\b\b\b\b\b\b\b\b\b\b\b\b\b\b\b\b\b\b\b\b\b\b\b\n",
      "Epoch 21/120\n",
      "1/1 [==============================] - 1s 677ms/step - loss: 0.3825 - accuracy: 0.9094 - val_loss: 0.6827 - val_accuracy: 0.7692\b\b\b\b\b\b\b\b\b\b\b\b\b\b\b\b\b\b\b\b\b\b\b\b\b\b\b\b\b\b\b\b\n",
      "Epoch 22/120\n",
      "1/1 [==============================] - 1s 650ms/step - loss: 0.3826 - accuracy: 0.9101 - val_loss: 0.6825 - val_accuracy: 0.7687\b\b\b\b\b\b\b\b\b\b\b\b\b\b\b\b\b\b\b\b\b\b\b\b\b\b\b\b\b\b\b\b\n",
      "Epoch 23/120\n",
      "1/1 [==============================] - 1s 666ms/step - loss: 0.3825 - accuracy: 0.9107 - val_loss: 0.6825 - val_accuracy: 0.7675\b\b\b\b\b\b\b\b\b\b\b\b\b\b\b\b\b\b\b\b\b\b\b\b\b\b\b\b\b\b\b\b\n",
      "Epoch 24/120\n",
      "1/1 [==============================] - 1s 662ms/step - loss: 0.3810 - accuracy: 0.9097 - val_loss: 0.6827 - val_accuracy: 0.7659\b\b\b\b\b\b\b\b\b\b\b\b\b\b\b\b\b\b\b\b\b\b\b\b\b\b\b\b\b\b\b\b\n",
      "Epoch 25/120\n",
      "1/1 [==============================] - 1s 658ms/step - loss: 0.3790 - accuracy: 0.9105 - val_loss: 0.6828 - val_accuracy: 0.7634\b\b\b\b\b\b\b\b\b\b\b\b\b\b\b\b\b\b\b\b\b\b\b\b\b\b\b\b\b\b\b\b\n",
      "Epoch 26/120\n",
      "1/1 [==============================] - 1s 648ms/step - loss: 0.3801 - accuracy: 0.9104 - val_loss: 0.6829 - val_accuracy: 0.7613\b\b\b\b\b\b\b\b\b\b\b\b\b\b\b\b\b\b\b\b\b\b\b\b\b\b\b\b\b\b\b\b\n",
      "Epoch 27/120\n",
      "1/1 [==============================] - 1s 633ms/step - loss: 0.3786 - accuracy: 0.9109 - val_loss: 0.6830 - val_accuracy: 0.7577\b\b\b\b\b\b\b\b\b\b\b\b\b\b\b\b\b\b\b\b\b\b\b\b\b\b\b\b\b\b\b\b\n",
      "Epoch 28/120\n",
      "1/1 [==============================] - 1s 668ms/step - loss: 0.3773 - accuracy: 0.9121 - val_loss: 0.6829 - val_accuracy: 0.7563\b\b\b\b\b\b\b\b\b\b\b\b\b\b\b\b\b\b\b\b\b\b\b\b\b\b\b\b\b\b\b\b\n",
      "Epoch 29/120\n",
      "1/1 [==============================] - 1s 634ms/step - loss: 0.3767 - accuracy: 0.9116 - val_loss: 0.6827 - val_accuracy: 0.7571\b\b\b\b\b\b\b\b\b\b\b\b\b\b\b\b\b\b\b\b\b\b\b\b\b\b\b\b\b\b\b\b\n",
      "Epoch 30/120\n",
      "1/1 [==============================] - 1s 639ms/step - loss: 0.3776 - accuracy: 0.9108 - val_loss: 0.6828 - val_accuracy: 0.7556\b\b\b\b\b\b\b\b\b\b\b\b\b\b\b\b\b\b\b\b\b\b\b\b\b\b\b\b\b\b\b\b\n",
      "Epoch 31/120\n",
      "1/1 [==============================] - 1s 626ms/step - loss: 0.3771 - accuracy: 0.9118 - val_loss: 0.6829 - val_accuracy: 0.7505\b\b\b\b\b\b\b\b\b\b\b\b\b\b\b\b\b\b\b\b\b\b\b\b\b\b\b\b\b\b\b\b\n",
      "Epoch 32/120\n",
      "1/1 [==============================] - 1s 627ms/step - loss: 0.3762 - accuracy: 0.9126 - val_loss: 0.6830 - val_accuracy: 0.7478\b\b\b\b\b\b\b\b\b\b\b\b\b\b\b\b\b\b\b\b\b\b\b\b\b\b\b\b\b\b\b\b\n",
      "Epoch 33/120\n",
      "1/1 [==============================] - 1s 619ms/step - loss: 0.3748 - accuracy: 0.9124 - val_loss: 0.6829 - val_accuracy: 0.7444\b\b\b\b\b\b\b\b\b\b\b\b\b\b\b\b\b\b\b\b\b\b\b\b\b\b\b\b\b\b\b\b\n",
      "Epoch 34/120\n",
      "1/1 [==============================] - 1s 654ms/step - loss: 0.3736 - accuracy: 0.9127 - val_loss: 0.6827 - val_accuracy: 0.7471\b\b\b\b\b\b\b\b\b\b\b\b\b\b\b\b\b\b\b\b\b\b\b\b\b\b\b\b\b\b\b\b\n",
      "Epoch 35/120\n",
      "1/1 [==============================] - 1s 654ms/step - loss: 0.3734 - accuracy: 0.9124 - val_loss: 0.6825 - val_accuracy: 0.7483\b\b\b\b\b\b\b\b\b\b\b\b\b\b\b\b\b\b\b\b\b\b\b\b\b\b\b\b\b\b\b\b\n",
      "Epoch 36/120\n",
      "1/1 [==============================] - 1s 642ms/step - loss: 0.3736 - accuracy: 0.9130 - val_loss: 0.6824 - val_accuracy: 0.7472\b\b\b\b\b\b\b\b\b\b\b\b\b\b\b\b\b\b\b\b\b\b\b\b\b\b\b\b\b\b\b\b\n",
      "Epoch 37/120\n",
      "1/1 [==============================] - 1s 632ms/step - loss: 0.3738 - accuracy: 0.9134 - val_loss: 0.6825 - val_accuracy: 0.7399\b\b\b\b\b\b\b\b\b\b\b\b\b\b\b\b\b\b\b\b\b\b\b\b\b\b\b\b\b\b\b\b\n",
      "Epoch 38/120\n",
      "1/1 [==============================] - 1s 648ms/step - loss: 0.3724 - accuracy: 0.9137 - val_loss: 0.6827 - val_accuracy: 0.7337\b\b\b\b\b\b\b\b\b\b\b\b\b\b\b\b\b\b\b\b\b\b\b\b\b\b\b\b\b\b\b\b\n",
      "Epoch 39/120\n",
      "1/1 [==============================] - 1s 644ms/step - loss: 0.3718 - accuracy: 0.9133 - val_loss: 0.6828 - val_accuracy: 0.7298\b\b\b\b\b\b\b\b\b\b\b\b\b\b\b\b\b\b\b\b\b\b\b\b\b\b\b\b\b\b\b\b\n",
      "Epoch 40/120\n",
      "1/1 [==============================] - 1s 654ms/step - loss: 0.3725 - accuracy: 0.9138 - val_loss: 0.6829 - val_accuracy: 0.7265\b\b\b\b\b\b\b\b\b\b\b\b\b\b\b\b\b\b\b\b\b\b\b\b\b\b\b\b\b\b\b\b\n",
      "Epoch 41/120\n",
      "1/1 [==============================] - 1s 654ms/step - loss: 0.3718 - accuracy: 0.9141 - val_loss: 0.6828 - val_accuracy: 0.7253\b\b\b\b\b\b\b\b\b\b\b\b\b\b\b\b\b\b\b\b\b\b\b\b\b\b\b\b\b\b\b\b\n",
      "Epoch 42/120\n",
      "1/1 [==============================] - 1s 657ms/step - loss: 0.3697 - accuracy: 0.9144 - val_loss: 0.6827 - val_accuracy: 0.7254\b\b\b\b\b\b\b\b\b\b\b\b\b\b\b\b\b\b\b\b\b\b\b\b\b\b\b\b\b\b\b\b\n",
      "Epoch 43/120\n",
      "1/1 [==============================] - 1s 659ms/step - loss: 0.3691 - accuracy: 0.9146 - val_loss: 0.6826 - val_accuracy: 0.7252\b\b\b\b\b\b\b\b\b\b\b\b\b\b\b\b\b\b\b\b\b\b\b\b\b\b\b\b\b\b\b\b\n",
      "Epoch 44/120\n",
      "1/1 [==============================] - 1s 646ms/step - loss: 0.3689 - accuracy: 0.9150 - val_loss: 0.6825 - val_accuracy: 0.7239\b\b\b\b\b\b\b\b\b\b\b\b\b\b\b\b\b\b\b\b\b\b\b\b\b\b\b\b\b\b\b\b\n",
      "Epoch 45/120\n",
      "1/1 [==============================] - 1s 675ms/step - loss: 0.3682 - accuracy: 0.9149 - val_loss: 0.6826 - val_accuracy: 0.7196\b\b\b\b\b\b\b\b\b\b\b\b\b\b\b\b\b\b\b\b\b\b\b\b\b\b\b\b\b\b\b\b\n",
      "Epoch 46/120\n",
      "1/1 [==============================] - 1s 637ms/step - loss: 0.3679 - accuracy: 0.9156 - val_loss: 0.6827 - val_accuracy: 0.7156\b\b\b\b\b\b\b\b\b\b\b\b\b\b\b\b\b\b\b\b\b\b\b\b\b\b\b\b\b\b\b\b\n",
      "Epoch 47/120\n",
      "1/1 [==============================] - 1s 633ms/step - loss: 0.3677 - accuracy: 0.9159 - val_loss: 0.6827 - val_accuracy: 0.7122\b\b\b\b\b\b\b\b\b\b\b\b\b\b\b\b\b\b\b\b\b\b\b\b\b\b\b\b\b\b\b\b\n",
      "Epoch 48/120\n",
      "1/1 [==============================] - 1s 632ms/step - loss: 0.3675 - accuracy: 0.9162 - val_loss: 0.6827 - val_accuracy: 0.7102\b\b\b\b\b\b\b\b\b\b\b\b\b\b\b\b\b\b\b\b\b\b\b\b\b\b\b\b\b\b\b\b\n",
      "Epoch 49/120\n",
      "1/1 [==============================] - 1s 631ms/step - loss: 0.3664 - accuracy: 0.9163 - val_loss: 0.6825 - val_accuracy: 0.7101\b\b\b\b\b\b\b\b\b\b\b\b\b\b\b\b\b\b\b\b\b\b\b\b\b\b\b\b\b\b\b\b\n",
      "Epoch 50/120\n",
      "1/1 [==============================] - 1s 644ms/step - loss: 0.3672 - accuracy: 0.9164 - val_loss: 0.6825 - val_accuracy: 0.7088\b\b\b\b\b\b\b\b\b\b\b\b\b\b\b\b\b\b\b\b\b\b\b\b\b\b\b\b\b\b\b\b\n",
      "Epoch 51/120\n",
      "1/1 [==============================] - 1s 635ms/step - loss: 0.3659 - accuracy: 0.9163 - val_loss: 0.6825 - val_accuracy: 0.7086\b\b\b\b\b\b\b\b\b\b\b\b\b\b\b\b\b\b\b\b\b\b\b\b\b\b\b\b\b\b\b\b\n",
      "Epoch 52/120\n",
      "1/1 [==============================] - 1s 633ms/step - loss: 0.3663 - accuracy: 0.9164 - val_loss: 0.6826 - val_accuracy: 0.7049\b\b\b\b\b\b\b\b\b\b\b\b\b\b\b\b\b\b\b\b\b\b\b\b\b\b\b\b\b\b\b\b\n",
      "Epoch 53/120\n",
      "1/1 [==============================] - 1s 625ms/step - loss: 0.3637 - accuracy: 0.9167 - val_loss: 0.6825 - val_accuracy: 0.7026\b\b\b\b\b\b\b\b\b\b\b\b\b\b\b\b\b\b\b\b\b\b\b\b\b\b\b\b\b\b\b\b\n",
      "Epoch 54/120\n",
      "1/1 [==============================] - 1s 646ms/step - loss: 0.3654 - accuracy: 0.9170 - val_loss: 0.6825 - val_accuracy: 0.7007\b\b\b\b\b\b\b\b\b\b\b\b\b\b\b\b\b\b\b\b\b\b\b\b\b\b\b\b\b\b\b\b\n",
      "Epoch 55/120\n",
      "1/1 [==============================] - 1s 699ms/step - loss: 0.3664 - accuracy: 0.9170 - val_loss: 0.6827 - val_accuracy: 0.6965\b\b\b\b\b\b\b\b\b\b\b\b\b\b\b\b\b\b\b\b\b\b\b\b\b\b\b\b\b\b\b\b\n",
      "Epoch 56/120\n",
      "1/1 [==============================] - 1s 635ms/step - loss: 0.3641 - accuracy: 0.9183 - val_loss: 0.6828 - val_accuracy: 0.6940\b\b\b\b\b\b\b\b\b\b\b\b\b\b\b\b\b\b\b\b\b\b\b\b\b\b\b\b\b\b\b\b\n",
      "Epoch 57/120\n",
      "1/1 [==============================] - 1s 637ms/step - loss: 0.3641 - accuracy: 0.9178 - val_loss: 0.6828 - val_accuracy: 0.6924\b\b\b\b\b\b\b\b\b\b\b\b\b\b\b\b\b\b\b\b\b\b\b\b\b\b\b\b\b\b\b\b\n",
      "Epoch 58/120\n",
      "1/1 [==============================] - 1s 657ms/step - loss: 0.3621 - accuracy: 0.9182 - val_loss: 0.6826 - val_accuracy: 0.6928\b\b\b\b\b\b\b\b\b\b\b\b\b\b\b\b\b\b\b\b\b\b\b\b\b\b\b\b\b\b\b\b\n",
      "Epoch 59/120\n",
      "1/1 [==============================] - 1s 630ms/step - loss: 0.3627 - accuracy: 0.9176 - val_loss: 0.6825 - val_accuracy: 0.6915\b\b\b\b\b\b\b\b\b\b\b\b\b\b\b\b\b\b\b\b\b\b\b\b\b\b\b\b\b\b\b\b\n",
      "Epoch 60/120\n",
      "1/1 [==============================] - 1s 635ms/step - loss: 0.3618 - accuracy: 0.9184 - val_loss: 0.6826 - val_accuracy: 0.6893\b\b\b\b\b\b\b\b\b\b\b\b\b\b\b\b\b\b\b\b\b\b\b\b\b\b\b\b\b\b\b\b\n",
      "Epoch 61/120\n",
      "1/1 [==============================] - 1s 637ms/step - loss: 0.3633 - accuracy: 0.9181 - val_loss: 0.6828 - val_accuracy: 0.6833\b\b\b\b\b\b\b\b\b\b\b\b\b\b\b\b\b\b\b\b\b\b\b\b\b\b\b\b\b\b\b\b\n",
      "Epoch 62/120\n",
      "1/1 [==============================] - 1s 637ms/step - loss: 0.3619 - accuracy: 0.9185 - val_loss: 0.6830 - val_accuracy: 0.6757\b\b\b\b\b\b\b\b\b\b\b\b\b\b\b\b\b\b\b\b\b\b\b\b\b\b\b\b\b\b\b\b\n",
      "Epoch 63/120\n",
      "1/1 [==============================] - 1s 641ms/step - loss: 0.3622 - accuracy: 0.9190 - val_loss: 0.6830 - val_accuracy: 0.6698\b\b\b\b\b\b\b\b\b\b\b\b\b\b\b\b\b\b\b\b\b\b\b\b\b\b\b\b\b\b\b\b\n",
      "Epoch 64/120\n",
      "1/1 [==============================] - 1s 634ms/step - loss: 0.3608 - accuracy: 0.9190 - val_loss: 0.6828 - val_accuracy: 0.6728\b\b\b\b\b\b\b\b\b\b\b\b\b\b\b\b\b\b\b\b\b\b\b\b\b\b\b\b\b\b\b\b\n",
      "Epoch 65/120\n",
      "1/1 [==============================] - 1s 646ms/step - loss: 0.3606 - accuracy: 0.9185 - val_loss: 0.6828 - val_accuracy: 0.6695\b\b\b\b\b\b\b\b\b\b\b\b\b\b\b\b\b\b\b\b\b\b\b\b\b\b\b\b\b\b\b\b\n",
      "Epoch 66/120\n",
      "1/1 [==============================] - 1s 641ms/step - loss: 0.3589 - accuracy: 0.9190 - val_loss: 0.6827 - val_accuracy: 0.6698\b\b\b\b\b\b\b\b\b\b\b\b\b\b\b\b\b\b\b\b\b\b\b\b\b\b\b\b\b\b\b\b\n",
      "Epoch 67/120\n",
      "1/1 [==============================] - 1s 628ms/step - loss: 0.3594 - accuracy: 0.9194 - val_loss: 0.6828 - val_accuracy: 0.6655\b\b\b\b\b\b\b\b\b\b\b\b\b\b\b\b\b\b\b\b\b\b\b\b\b\b\b\b\b\b\b\b\n",
      "Epoch 68/120\n",
      "1/1 [==============================] - 1s 736ms/step - loss: 0.3583 - accuracy: 0.9201 - val_loss: 0.6830 - val_accuracy: 0.6584\b\b\b\b\b\b\b\b\b\b\b\b\b\b\b\b\b\b\b\b\b\b\b\b\b\b\b\b\b\b\b\b\n",
      "Epoch 69/120\n",
      "1/1 [==============================] - 1s 732ms/step - loss: 0.3596 - accuracy: 0.9200 - val_loss: 0.6833 - val_accuracy: 0.6472\b\b\b\b\b\b\b\b\b\b\b\b\b\b\b\b\b\b\b\b\b\b\b\b\b\b\b\b\b\b\b\b\n",
      "Epoch 70/120\n",
      "1/1 [==============================] - 1s 731ms/step - loss: 0.3582 - accuracy: 0.9200 - val_loss: 0.6835 - val_accuracy: 0.6374\b\b\b\b\b\b\b\b\b\b\b\b\b\b\b\b\b\b\b\b\b\b\b\b\b\b\b\b\b\b\b\b\n",
      "Epoch 71/120\n",
      "1/1 [==============================] - 1s 642ms/step - loss: 0.3575 - accuracy: 0.9204 - val_loss: 0.6833 - val_accuracy: 0.6406\b\b\b\b\b\b\b\b\b\b\b\b\b\b\b\b\b\b\b\b\b\b\b\b\b\b\b\b\b\b\b\b\n",
      "Epoch 72/120\n",
      "1/1 [==============================] - 1s 655ms/step - loss: 0.3569 - accuracy: 0.9198 - val_loss: 0.6829 - val_accuracy: 0.6496\b\b\b\b\b\b\b\b\b\b\b\b\b\b\b\b\b\b\b\b\b\b\b\b\b\b\b\b\b\b\b\b\n",
      "Epoch 73/120\n",
      "1/1 [==============================] - 1s 671ms/step - loss: 0.3577 - accuracy: 0.9203 - val_loss: 0.6829 - val_accuracy: 0.6487\b\b\b\b\b\b\b\b\b\b\b\b\b\b\b\b\b\b\b\b\b\b\b\b\b\b\b\b\b\b\b\b\n",
      "Epoch 74/120\n",
      "1/1 [==============================] - 1s 664ms/step - loss: 0.3560 - accuracy: 0.9205 - val_loss: 0.6830 - val_accuracy: 0.6403\b\b\b\b\b\b\b\b\b\b\b\b\b\b\b\b\b\b\b\b\b\b\b\b\b\b\b\b\b\b\b\b\n",
      "Epoch 75/120\n",
      "1/1 [==============================] - 1s 658ms/step - loss: 0.3567 - accuracy: 0.9205 - val_loss: 0.6832 - val_accuracy: 0.6310\b\b\b\b\b\b\b\b\b\b\b\b\b\b\b\b\b\b\b\b\b\b\b\b\b\b\b\b\b\b\b\b\n",
      "Epoch 76/120\n",
      "1/1 [==============================] - 1s 667ms/step - loss: 0.3557 - accuracy: 0.9207 - val_loss: 0.6834 - val_accuracy: 0.6251\b\b\b\b\b\b\b\b\b\b\b\b\b\b\b\b\b\b\b\b\b\b\b\b\b\b\b\b\b\b\b\b\n",
      "Epoch 77/120\n",
      "1/1 [==============================] - 1s 651ms/step - loss: 0.3562 - accuracy: 0.9199 - val_loss: 0.6834 - val_accuracy: 0.6220\b\b\b\b\b\b\b\b\b\b\b\b\b\b\b\b\b\b\b\b\b\b\b\b\b\b\b\b\b\b\b\b\n",
      "Epoch 78/120\n",
      "1/1 [==============================] - 1s 635ms/step - loss: 0.3556 - accuracy: 0.9211 - val_loss: 0.6832 - val_accuracy: 0.6251\b\b\b\b\b\b\b\b\b\b\b\b\b\b\b\b\b\b\b\b\b\b\b\b\b\b\b\b\b\b\b\b\n",
      "Epoch 79/120\n",
      "1/1 [==============================] - 1s 645ms/step - loss: 0.3548 - accuracy: 0.9207 - val_loss: 0.6829 - val_accuracy: 0.6279\b\b\b\b\b\b\b\b\b\b\b\b\b\b\b\b\b\b\b\b\b\b\b\b\b\b\b\b\b\b\b\b\n",
      "Epoch 80/120\n",
      "1/1 [==============================] - 1s 637ms/step - loss: 0.3555 - accuracy: 0.9203 - val_loss: 0.6828 - val_accuracy: 0.6285\b\b\b\b\b\b\b\b\b\b\b\b\b\b\b\b\b\b\b\b\b\b\b\b\b\b\b\b\b\b\b\b\n",
      "Epoch 81/120\n",
      "1/1 [==============================] - 1s 666ms/step - loss: 0.3547 - accuracy: 0.9209 - val_loss: 0.6829 - val_accuracy: 0.6230\b\b\b\b\b\b\b\b\b\b\b\b\b\b\b\b\b\b\b\b\b\b\b\b\b\b\b\b\b\b\b\b\n",
      "Epoch 82/120\n",
      "1/1 [==============================] - 1s 649ms/step - loss: 0.3529 - accuracy: 0.9212 - val_loss: 0.6831 - val_accuracy: 0.6196\b\b\b\b\b\b\b\b\b\b\b\b\b\b\b\b\b\b\b\b\b\b\b\b\b\b\b\b\b\b\b\b\n",
      "Epoch 83/120\n",
      "1/1 [==============================] - 1s 646ms/step - loss: 0.3533 - accuracy: 0.9213 - val_loss: 0.6831 - val_accuracy: 0.6165\b\b\b\b\b\b\b\b\b\b\b\b\b\b\b\b\b\b\b\b\b\b\b\b\b\b\b\b\b\b\b\b\n",
      "Epoch 84/120\n",
      "1/1 [==============================] - 1s 653ms/step - loss: 0.3535 - accuracy: 0.9211 - val_loss: 0.6830 - val_accuracy: 0.6162\b\b\b\b\b\b\b\b\b\b\b\b\b\b\b\b\b\b\b\b\b\b\b\b\b\b\b\b\b\b\b\b\n",
      "Epoch 85/120\n",
      "1/1 [==============================] - 1s 647ms/step - loss: 0.3528 - accuracy: 0.9216 - val_loss: 0.6829 - val_accuracy: 0.6178\b\b\b\b\b\b\b\b\b\b\b\b\b\b\b\b\b\b\b\b\b\b\b\b\b\b\b\b\b\b\b\b\n",
      "Epoch 86/120\n",
      "1/1 [==============================] - 1s 645ms/step - loss: 0.3526 - accuracy: 0.9216 - val_loss: 0.6826 - val_accuracy: 0.6213\b\b\b\b\b\b\b\b\b\b\b\b\b\b\b\b\b\b\b\b\b\b\b\b\b\b\b\b\b\b\b\b\n",
      "Epoch 87/120\n",
      "1/1 [==============================] - 1s 647ms/step - loss: 0.3518 - accuracy: 0.9226 - val_loss: 0.6825 - val_accuracy: 0.6218\b\b\b\b\b\b\b\b\b\b\b\b\b\b\b\b\b\b\b\b\b\b\b\b\b\b\b\b\b\b\b\b\n",
      "Epoch 88/120\n",
      "1/1 [==============================] - 1s 635ms/step - loss: 0.3513 - accuracy: 0.9223 - val_loss: 0.6825 - val_accuracy: 0.6214\b\b\b\b\b\b\b\b\b\b\b\b\b\b\b\b\b\b\b\b\b\b\b\b\b\b\b\b\b\b\b\b\n",
      "Epoch 89/120\n",
      "1/1 [==============================] - 1s 638ms/step - loss: 0.3509 - accuracy: 0.9222 - val_loss: 0.6825 - val_accuracy: 0.6196\b\b\b\b\b\b\b\b\b\b\b\b\b\b\b\b\b\b\b\b\b\b\b\b\b\b\b\b\b\b\b\b\n",
      "Epoch 90/120\n",
      "1/1 [==============================] - 1s 642ms/step - loss: 0.3509 - accuracy: 0.9220 - val_loss: 0.6826 - val_accuracy: 0.6161\b\b\b\b\b\b\b\b\b\b\b\b\b\b\b\b\b\b\b\b\b\b\b\b\b\b\b\b\b\b\b\b\n",
      "Epoch 91/120\n",
      "1/1 [==============================] - 1s 646ms/step - loss: 0.3506 - accuracy: 0.9227 - val_loss: 0.6825 - val_accuracy: 0.6140\b\b\b\b\b\b\b\b\b\b\b\b\b\b\b\b\b\b\b\b\b\b\b\b\b\b\b\b\b\b\b\b\n",
      "Epoch 92/120\n",
      "1/1 [==============================] - 1s 643ms/step - loss: 0.3488 - accuracy: 0.9224 - val_loss: 0.6823 - val_accuracy: 0.6175\b\b\b\b\b\b\b\b\b\b\b\b\b\b\b\b\b\b\b\b\b\b\b\b\b\b\b\b\b\b\b\b\n",
      "Epoch 93/120\n",
      "1/1 [==============================] - 1s 639ms/step - loss: 0.3503 - accuracy: 0.9228 - val_loss: 0.6824 - val_accuracy: 0.6088\b\b\b\b\b\b\b\b\b\b\b\b\b\b\b\b\b\b\b\b\b\b\b\b\b\b\b\b\b\b\b\b\n",
      "Epoch 94/120\n",
      "1/1 [==============================] - 1s 642ms/step - loss: 0.3488 - accuracy: 0.9226 - val_loss: 0.6825 - val_accuracy: 0.6042\b\b\b\b\b\b\b\b\b\b\b\b\b\b\b\b\b\b\b\b\b\b\b\b\b\b\b\b\b\b\b\b\n",
      "Epoch 95/120\n",
      "1/1 [==============================] - 1s 651ms/step - loss: 0.3497 - accuracy: 0.9233 - val_loss: 0.6827 - val_accuracy: 0.5981\b\b\b\b\b\b\b\b\b\b\b\b\b\b\b\b\b\b\b\b\b\b\b\b\b\b\b\b\b\b\b\b\n",
      "Epoch 96/120\n",
      "1/1 [==============================] - 1s 668ms/step - loss: 0.3493 - accuracy: 0.9229 - val_loss: 0.6828 - val_accuracy: 0.5948\b\b\b\b\b\b\b\b\b\b\b\b\b\b\b\b\b\b\b\b\b\b\b\b\b\b\b\b\b\b\b\b\n",
      "Epoch 97/120\n",
      "1/1 [==============================] - 1s 642ms/step - loss: 0.3486 - accuracy: 0.9234 - val_loss: 0.6829 - val_accuracy: 0.5919\b\b\b\b\b\b\b\b\b\b\b\b\b\b\b\b\b\b\b\b\b\b\b\b\b\b\b\b\b\b\b\b\n",
      "Epoch 98/120\n",
      "1/1 [==============================] - 1s 646ms/step - loss: 0.3493 - accuracy: 0.9238 - val_loss: 0.6829 - val_accuracy: 0.5902\b\b\b\b\b\b\b\b\b\b\b\b\b\b\b\b\b\b\b\b\b\b\b\b\b\b\b\b\b\b\b\b\n",
      "Epoch 99/120\n",
      "1/1 [==============================] - 1s 644ms/step - loss: 0.3484 - accuracy: 0.9225 - val_loss: 0.6828 - val_accuracy: 0.5896\b\b\b\b\b\b\b\b\b\b\b\b\b\b\b\b\b\b\b\b\b\b\b\b\b\b\b\b\b\b\b\b\n",
      "Epoch 100/120\n",
      "1/1 [==============================] - 1s 648ms/step - loss: 0.3478 - accuracy: 0.9234 - val_loss: 0.6828 - val_accuracy: 0.5888\b\b\b\b\b\b\b\b\b\b\b\b\b\b\b\b\b\b\b\b\b\b\b\b\b\b\b\b\b\b\b\b\n",
      "Epoch 101/120\n",
      "1/1 [==============================] - 1s 645ms/step - loss: 0.3473 - accuracy: 0.9231 - val_loss: 0.6828 - val_accuracy: 0.5875\b\b\b\b\b\b\b\b\b\b\b\b\b\b\b\b\b\b\b\b\b\b\b\b\b\b\b\b\b\b\b\b\n",
      "Epoch 102/120\n",
      "1/1 [==============================] - 1s 645ms/step - loss: 0.3466 - accuracy: 0.9241 - val_loss: 0.6828 - val_accuracy: 0.5870\b\b\b\b\b\b\b\b\b\b\b\b\b\b\b\b\b\b\b\b\b\b\b\b\b\b\b\b\b\b\b\b\n",
      "Epoch 103/120\n",
      "1/1 [==============================] - 1s 643ms/step - loss: 0.3466 - accuracy: 0.9229 - val_loss: 0.6828 - val_accuracy: 0.5861\b\b\b\b\b\b\b\b\b\b\b\b\b\b\b\b\b\b\b\b\b\b\b\b\b\b\b\b\b\b\b\b\n",
      "Epoch 104/120\n",
      "1/1 [==============================] - 1s 654ms/step - loss: 0.3460 - accuracy: 0.9229 - val_loss: 0.6827 - val_accuracy: 0.5862\b\b\b\b\b\b\b\b\b\b\b\b\b\b\b\b\b\b\b\b\b\b\b\b\b\b\b\b\b\b\b\b\n",
      "Epoch 105/120\n",
      "1/1 [==============================] - 1s 648ms/step - loss: 0.3483 - accuracy: 0.9234 - val_loss: 0.6828 - val_accuracy: 0.5848\b\b\b\b\b\b\b\b\b\b\b\b\b\b\b\b\b\b\b\b\b\b\b\b\b\b\b\b\b\b\b\b\n",
      "Epoch 106/120\n",
      "1/1 [==============================] - 1s 661ms/step - loss: 0.3455 - accuracy: 0.9238 - val_loss: 0.6827 - val_accuracy: 0.5852\b\b\b\b\b\b\b\b\b\b\b\b\b\b\b\b\b\b\b\b\b\b\b\b\b\b\b\b\b\b\b\b\n",
      "Epoch 107/120\n",
      "1/1 [==============================] - 1s 642ms/step - loss: 0.3459 - accuracy: 0.9235 - val_loss: 0.6826 - val_accuracy: 0.5852\b\b\b\b\b\b\b\b\b\b\b\b\b\b\b\b\b\b\b\b\b\b\b\b\b\b\b\b\b\b\b\b\n",
      "Epoch 108/120\n",
      "1/1 [==============================] - 1s 646ms/step - loss: 0.3447 - accuracy: 0.9242 - val_loss: 0.6825 - val_accuracy: 0.5851\b\b\b\b\b\b\b\b\b\b\b\b\b\b\b\b\b\b\b\b\b\b\b\b\b\b\b\b\b\b\b\b\n",
      "Epoch 109/120\n",
      "1/1 [==============================] - 1s 642ms/step - loss: 0.3443 - accuracy: 0.9238 - val_loss: 0.6825 - val_accuracy: 0.5841\b\b\b\b\b\b\b\b\b\b\b\b\b\b\b\b\b\b\b\b\b\b\b\b\b\b\b\b\b\b\b\b\n",
      "Epoch 110/120\n",
      "1/1 [==============================] - 1s 647ms/step - loss: 0.3449 - accuracy: 0.9237 - val_loss: 0.6826 - val_accuracy: 0.5830\b\b\b\b\b\b\b\b\b\b\b\b\b\b\b\b\b\b\b\b\b\b\b\b\b\b\b\b\b\b\b\b\n",
      "Epoch 111/120\n",
      "1/1 [==============================] - 1s 668ms/step - loss: 0.3445 - accuracy: 0.9238 - val_loss: 0.6827 - val_accuracy: 0.5825\b\b\b\b\b\b\b\b\b\b\b\b\b\b\b\b\b\b\b\b\b\b\b\b\b\b\b\b\b\b\b\b\n",
      "Epoch 112/120\n",
      "1/1 [==============================] - 1s 652ms/step - loss: 0.3443 - accuracy: 0.9240 - val_loss: 0.6826 - val_accuracy: 0.5825\b\b\b\b\b\b\b\b\b\b\b\b\b\b\b\b\b\b\b\b\b\b\b\b\b\b\b\b\b\b\b\b\n",
      "Epoch 113/120\n",
      "1/1 [==============================] - 1s 648ms/step - loss: 0.3435 - accuracy: 0.9241 - val_loss: 0.6824 - val_accuracy: 0.5832\b\b\b\b\b\b\b\b\b\b\b\b\b\b\b\b\b\b\b\b\b\b\b\b\b\b\b\b\b\b\b\b\n",
      "Epoch 114/120\n",
      "1/1 [==============================] - 1s 645ms/step - loss: 0.3429 - accuracy: 0.9250 - val_loss: 0.6822 - val_accuracy: 0.5841\b\b\b\b\b\b\b\b\b\b\b\b\b\b\b\b\b\b\b\b\b\b\b\b\b\b\b\b\b\b\b\b\n",
      "Epoch 115/120\n",
      "1/1 [==============================] - 1s 641ms/step - loss: 0.3434 - accuracy: 0.9247 - val_loss: 0.6823 - val_accuracy: 0.5831\b\b\b\b\b\b\b\b\b\b\b\b\b\b\b\b\b\b\b\b\b\b\b\b\b\b\b\b\b\b\b\b\n",
      "Epoch 116/120\n",
      "1/1 [==============================] - 1s 644ms/step - loss: 0.3418 - accuracy: 0.9252 - val_loss: 0.6824 - val_accuracy: 0.5826\b\b\b\b\b\b\b\b\b\b\b\b\b\b\b\b\b\b\b\b\b\b\b\b\b\b\b\b\b\b\b\b\n",
      "Epoch 117/120\n",
      "1/1 [==============================] - 1s 644ms/step - loss: 0.3423 - accuracy: 0.9248 - val_loss: 0.6825 - val_accuracy: 0.5818\b\b\b\b\b\b\b\b\b\b\b\b\b\b\b\b\b\b\b\b\b\b\b\b\b\b\b\b\b\b\b\b\n",
      "Epoch 118/120\n",
      "1/1 [==============================] - 1s 642ms/step - loss: 0.3418 - accuracy: 0.9248 - val_loss: 0.6824 - val_accuracy: 0.5818\b\b\b\b\b\b\b\b\b\b\b\b\b\b\b\b\b\b\b\b\b\b\b\b\b\b\b\b\b\b\b\b\n",
      "Epoch 119/120\n",
      "1/1 [==============================] - 1s 641ms/step - loss: 0.3414 - accuracy: 0.9254 - val_loss: 0.6822 - val_accuracy: 0.5826\b\b\b\b\b\b\b\b\b\b\b\b\b\b\b\b\b\b\b\b\b\b\b\b\b\b\b\b\b\b\b\b\n",
      "Epoch 120/120\n",
      "1/1 [==============================] - 1s 642ms/step - loss: 0.3424 - accuracy: 0.9249 - val_loss: 0.6822 - val_accuracy: 0.5828\b\b\b\b\b\b\b\b\b\b\b\b\b\b\b\b\b\b\b\b\b\b\b\b\b\b\b\b\b\b\b\b\n"
     ]
    }
   ],
   "source": [
    "history = model.fit(train_dataset, epochs=120, batch_size=batch_size, validation_data=test_dataset)"
   ]
  },
  {
   "cell_type": "code",
   "execution_count": 10,
   "metadata": {},
   "outputs": [],
   "source": [
    "model.save('correct_train_test.h5')"
   ]
  },
  {
   "cell_type": "code",
   "execution_count": 11,
   "metadata": {
    "pycharm": {
     "name": "#%%\n"
    }
   },
   "outputs": [],
   "source": [
    "y_pred = model.predict(X_test)"
   ]
  },
  {
   "cell_type": "code",
   "execution_count": 12,
   "metadata": {
    "pycharm": {
     "name": "#%%\n"
    }
   },
   "outputs": [
    {
     "data": {
      "text/plain": "0.93394244"
     },
     "execution_count": 12,
     "metadata": {},
     "output_type": "execute_result"
    }
   ],
   "source": [
    "precision = tf.keras.metrics.Precision()\n",
    "precision.update_state(y_test, y_pred)\n",
    "precision.result().numpy()"
   ]
  },
  {
   "cell_type": "code",
   "execution_count": 13,
   "metadata": {},
   "outputs": [
    {
     "data": {
      "text/plain": "175341"
     },
     "execution_count": 13,
     "metadata": {},
     "output_type": "execute_result"
    }
   ],
   "source": [
    "len(X_train)"
   ]
  },
  {
   "cell_type": "code",
   "execution_count": 14,
   "metadata": {
    "pycharm": {
     "name": "#%%\n"
    }
   },
   "outputs": [
    {
     "data": {
      "text/plain": "0.63811433"
     },
     "execution_count": 14,
     "metadata": {},
     "output_type": "execute_result"
    }
   ],
   "source": [
    "recall = tf.keras.metrics.Recall()\n",
    "recall.update_state(y_test, y_pred)\n",
    "recall.result().numpy()"
   ]
  },
  {
   "cell_type": "code",
   "execution_count": 15,
   "metadata": {
    "pycharm": {
     "name": "#%%\n"
    }
   },
   "outputs": [
    {
     "data": {
      "text/plain": "0.7758952"
     },
     "execution_count": 15,
     "metadata": {},
     "output_type": "execute_result"
    }
   ],
   "source": [
    "accuracy = tf.keras.metrics.BinaryAccuracy()\n",
    "accuracy.update_state(y_test, y_pred)\n",
    "accuracy.result().numpy()"
   ]
  },
  {
   "cell_type": "code",
   "execution_count": 16,
   "metadata": {
    "collapsed": false,
    "jupyter": {
     "outputs_hidden": false
    },
    "pycharm": {
     "name": "#%%\n"
    }
   },
   "outputs": [],
   "source": [
    "actual_prediction = np.round(y_pred)\n",
    "\n",
    "# actually normal, predicted normal\n",
    "normal_traffic_indices = np.argwhere(y_test.to_numpy()==0)\n",
    "normal_traffic_indices = normal_traffic_indices.reshape((len(normal_traffic_indices),))\n",
    "attack_traffic_indices = np.argwhere(y_test.to_numpy()==1)\n",
    "attack_traffic_indices = attack_traffic_indices.reshape((len(attack_traffic_indices),))"
   ]
  },
  {
   "cell_type": "code",
   "execution_count": 17,
   "metadata": {
    "collapsed": false,
    "jupyter": {
     "outputs_hidden": false
    },
    "pycharm": {
     "name": "#%%\n"
    }
   },
   "outputs": [
    {
     "name": "stdout",
     "output_type": "stream",
     "text": [
      "classified 34954 out of 37000 normal traffic patterns as normal 0.9447027027027027%\n"
     ]
    }
   ],
   "source": [
    "tn = len(np.where(np.take(actual_prediction, normal_traffic_indices, axis=0)==0)[0])\n",
    "norm = len(normal_traffic_indices)\n",
    "print(f'classified {tn} out of {norm} normal traffic patterns as normal {tn/norm}%')"
   ]
  },
  {
   "cell_type": "code",
   "execution_count": 18,
   "metadata": {
    "collapsed": false,
    "jupyter": {
     "outputs_hidden": false
    },
    "pycharm": {
     "name": "#%%\n"
    }
   },
   "outputs": [
    {
     "name": "stdout",
     "output_type": "stream",
     "text": [
      "classified 16405 out of 45332 attack traffic patterns as normal 0.3618856436954028%\n"
     ]
    }
   ],
   "source": [
    "fn = len(np.where(np.take(actual_prediction, attack_traffic_indices, axis=0)==0)[0])\n",
    "attack = len(attack_traffic_indices)\n",
    "print(f'classified {fn} out of {attack} attack traffic patterns as normal {fn/attack}%')"
   ]
  },
  {
   "cell_type": "code",
   "execution_count": 19,
   "metadata": {
    "collapsed": false,
    "jupyter": {
     "outputs_hidden": false
    },
    "pycharm": {
     "name": "#%%\n"
    }
   },
   "outputs": [
    {
     "name": "stdout",
     "output_type": "stream",
     "text": [
      "classified 2046 out of 37000 normal traffic patterns as attack 0.0552972972972973%\n"
     ]
    }
   ],
   "source": [
    "fp = len(np.where(np.take(actual_prediction, normal_traffic_indices, axis=0)==1)[0])\n",
    "print(f'classified {fp} out of {norm} normal traffic patterns as attack {fp/norm}%')"
   ]
  },
  {
   "cell_type": "code",
   "execution_count": 20,
   "metadata": {
    "collapsed": false,
    "jupyter": {
     "outputs_hidden": false
    },
    "pycharm": {
     "name": "#%%\n"
    }
   },
   "outputs": [
    {
     "name": "stdout",
     "output_type": "stream",
     "text": [
      "classified 28927 out of 45332 attack traffic patterns as attack 0.6381143563045972%\n"
     ]
    }
   ],
   "source": [
    "tp = len(np.where(np.take(actual_prediction, attack_traffic_indices, axis=0)==1)[0])\n",
    "print(f'classified {tp} out of {attack} attack traffic patterns as attack {tp/attack}%')"
   ]
  },
  {
   "cell_type": "code",
   "execution_count": 21,
   "metadata": {},
   "outputs": [
    {
     "name": "stdout",
     "output_type": "stream",
     "text": [
      "('You must install pydot (`pip install pydot`) and install graphviz (see instructions at https://graphviz.gitlab.io/download/) ', 'for plot_model/model_to_dot to work.')\n"
     ]
    }
   ],
   "source": [
    "tf.keras.utils.plot_model(model, to_file='model_plot.png', show_shapes=True, show_layer_names=False)"
   ]
  },
  {
   "cell_type": "code",
   "execution_count": 21,
   "metadata": {},
   "outputs": [],
   "source": []
  }
 ],
 "metadata": {
  "kernelspec": {
   "name": "python3",
   "language": "python",
   "display_name": "Python 3"
  },
  "language_info": {
   "codemirror_mode": {
    "name": "ipython",
    "version": 3
   },
   "file_extension": ".py",
   "mimetype": "text/x-python",
   "name": "python",
   "nbconvert_exporter": "python",
   "pygments_lexer": "ipython3",
   "version": "3.9.5"
  }
 },
 "nbformat": 4,
 "nbformat_minor": 4
}