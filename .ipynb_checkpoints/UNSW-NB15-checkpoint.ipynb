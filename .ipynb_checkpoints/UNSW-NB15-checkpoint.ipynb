{
 "cells": [
  {
   "cell_type": "code",
   "execution_count": 1,
   "metadata": {
    "pycharm": {
     "name": "#%%\n"
    }
   },
   "outputs": [],
   "source": [
    "# first, import the necessary libraries\n",
    "from sklearn.cluster import KMeans\n",
    "import numpy as np\n",
    "import seaborn as sns\n",
    "import csv\n",
    "import os"
   ]
  },
  {
   "cell_type": "code",
   "execution_count": null,
   "metadata": {
    "pycharm": {
     "is_executing": true,
     "name": "#%%\n"
    }
   },
   "outputs": [],
   "source": [
    "if not os.path.exists('./X_train.pkl'):\n",
    "    # read in csv data if no pickle\n",
    "    raw = []\n",
    "    for i in ['1','2','3','4']:\n",
    "        with open(f'UNSW-NB15/UNSW-NB15_{i}.csv') as read_file:\n",
    "            csvfile = csv.reader(read_file)\n",
    "            raw += [x for x in csvfile]\n",
    "    raw = np.array(raw)\n",
    "    X = raw[:,:-2]\n",
    "    y = raw[:, -1]\n",
    "    print(X[0])\n",
    "    print(y[0])"
   ]
  }
 ],
 "metadata": {
  "kernelspec": {
   "display_name": "Python 3",
   "language": "python",
   "name": "python3"
  },
  "language_info": {
   "codemirror_mode": {
    "name": "ipython",
    "version": 3
   },
   "file_extension": ".py",
   "mimetype": "text/x-python",
   "name": "python",
   "nbconvert_exporter": "python",
   "pygments_lexer": "ipython3",
   "version": "3.8.5"
  }
 },
 "nbformat": 4,
 "nbformat_minor": 1
}
