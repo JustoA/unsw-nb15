{
 "cells": [
  {
   "cell_type": "markdown",
   "source": [
    "# DPKT to NN\n",
    "## This assumes the pcap file / netflow file you're using has a link layer of Ethernet. See PROCEDURE.md for more information"
   ],
   "metadata": {
    "collapsed": false,
    "pycharm": {
     "name": "#%% md\n"
    }
   }
  },
  {
   "cell_type": "code",
   "execution_count": 6,
   "metadata": {
    "collapsed": true
   },
   "outputs": [],
   "source": [
    "import dpkt\n",
    "f = open('pcap/2.pcap', 'rb')\n",
    "\n",
    "\n",
    "pcap = dpkt.pcap.Reader(f)\n",
    "eths = []\n",
    "flows = []"
   ]
  },
  {
   "cell_type": "code",
   "execution_count": 7,
   "outputs": [],
   "source": [
    "for ts, buf in pcap:\n",
    "    eths.append(dpkt.ethernet.Ethernet(buf))"
   ],
   "metadata": {
    "collapsed": false,
    "pycharm": {
     "name": "#%%\n"
    }
   }
  },
  {
   "cell_type": "code",
   "execution_count": null,
   "outputs": [],
   "source": [
    "src = []\n",
    "dst = []\n",
    "dur = []\n",
    "proto = []\n",
    "service = []\n",
    "state = []\n",
    "spkts = []\n",
    "dpkts = []\n",
    "sbytes = []\n",
    "dbytes = []\n",
    "for eth in eths:\n",
    "  if not isinstance(eth.data, dpkt.ip.IP):\n",
    "      print(\"not an ip packet. discarding\")\n",
    "      continue\n",
    "  ip_pkt = eth.data\n"
   ],
   "metadata": {
    "collapsed": false,
    "pycharm": {
     "name": "#%%\n"
    }
   }
  },
  {
   "cell_type": "code",
   "execution_count": null,
   "outputs": [],
   "source": [
    "dpkt.ethernet.ETH_TYPE_UNKNOWN"
   ],
   "metadata": {
    "collapsed": false,
    "pycharm": {
     "name": "#%%\n"
    }
   }
  },
  {
   "cell_type": "code",
   "execution_count": 4,
   "outputs": [
    {
     "ename": "TypeError",
     "evalue": "argument of type 'NoneType' is not iterable",
     "output_type": "error",
     "traceback": [
      "\u001B[0;31m---------------------------------------------------------------------------\u001B[0m",
      "\u001B[0;31mTypeError\u001B[0m                                 Traceback (most recent call last)",
      "\u001B[0;32m<ipython-input-4-c85bd6f0f2f5>\u001B[0m in \u001B[0;36m<module>\u001B[0;34m\u001B[0m\n\u001B[1;32m      1\u001B[0m \u001B[0;32mfrom\u001B[0m \u001B[0mscapy\u001B[0m\u001B[0;34m.\u001B[0m\u001B[0mall\u001B[0m \u001B[0;32mimport\u001B[0m \u001B[0;34m*\u001B[0m\u001B[0;34m\u001B[0m\u001B[0;34m\u001B[0m\u001B[0m\n\u001B[0;32m----> 2\u001B[0;31m \u001B[0msniff\u001B[0m\u001B[0;34m(\u001B[0m\u001B[0moffline\u001B[0m\u001B[0;34m=\u001B[0m\u001B[0mopen\u001B[0m\u001B[0;34m(\u001B[0m\u001B[0;34m\"pcap/1.pcap\"\u001B[0m\u001B[0;34m,\u001B[0m \u001B[0;34m\"rb\"\u001B[0m\u001B[0;34m)\u001B[0m\u001B[0;34m,\u001B[0m \u001B[0msession\u001B[0m\u001B[0;34m=\u001B[0m\u001B[0mNetflowSession\u001B[0m\u001B[0;34m)\u001B[0m\u001B[0;34m\u001B[0m\u001B[0;34m\u001B[0m\u001B[0m\n\u001B[0m",
      "\u001B[0;32m~/MLStuff/venv/lib/python3.8/site-packages/scapy/sendrecv.py\u001B[0m in \u001B[0;36msniff\u001B[0;34m(*args, **kwargs)\u001B[0m\n\u001B[1;32m   1261\u001B[0m     \u001B[0;31m# type: (*Any, **Any) -> PacketList\u001B[0m\u001B[0;34m\u001B[0m\u001B[0;34m\u001B[0m\u001B[0;34m\u001B[0m\u001B[0m\n\u001B[1;32m   1262\u001B[0m     \u001B[0msniffer\u001B[0m \u001B[0;34m=\u001B[0m \u001B[0mAsyncSniffer\u001B[0m\u001B[0;34m(\u001B[0m\u001B[0;34m)\u001B[0m\u001B[0;34m\u001B[0m\u001B[0;34m\u001B[0m\u001B[0m\n\u001B[0;32m-> 1263\u001B[0;31m     \u001B[0msniffer\u001B[0m\u001B[0;34m.\u001B[0m\u001B[0m_run\u001B[0m\u001B[0;34m(\u001B[0m\u001B[0;34m*\u001B[0m\u001B[0margs\u001B[0m\u001B[0;34m,\u001B[0m \u001B[0;34m**\u001B[0m\u001B[0mkwargs\u001B[0m\u001B[0;34m)\u001B[0m\u001B[0;34m\u001B[0m\u001B[0;34m\u001B[0m\u001B[0m\n\u001B[0m\u001B[1;32m   1264\u001B[0m     \u001B[0;32mreturn\u001B[0m \u001B[0mcast\u001B[0m\u001B[0;34m(\u001B[0m\u001B[0mPacketList\u001B[0m\u001B[0;34m,\u001B[0m \u001B[0msniffer\u001B[0m\u001B[0;34m.\u001B[0m\u001B[0mresults\u001B[0m\u001B[0;34m)\u001B[0m\u001B[0;34m\u001B[0m\u001B[0;34m\u001B[0m\u001B[0m\n\u001B[1;32m   1265\u001B[0m \u001B[0;34m\u001B[0m\u001B[0m\n",
      "\u001B[0;32m~/MLStuff/venv/lib/python3.8/site-packages/scapy/sendrecv.py\u001B[0m in \u001B[0;36m_run\u001B[0;34m(self, count, store, offline, quiet, prn, lfilter, L2socket, timeout, opened_socket, stop_filter, iface, started_callback, session, session_kwargs, **karg)\u001B[0m\n\u001B[1;32m   1208\u001B[0m                     \u001B[0mp\u001B[0m\u001B[0;34m.\u001B[0m\u001B[0msniffed_on\u001B[0m \u001B[0;34m=\u001B[0m \u001B[0msniff_sockets\u001B[0m\u001B[0;34m[\u001B[0m\u001B[0ms\u001B[0m\u001B[0;34m]\u001B[0m\u001B[0;34m\u001B[0m\u001B[0;34m\u001B[0m\u001B[0m\n\u001B[1;32m   1209\u001B[0m                     \u001B[0;31m# on_packet_received handles the prn/storage\u001B[0m\u001B[0;34m\u001B[0m\u001B[0;34m\u001B[0m\u001B[0;34m\u001B[0m\u001B[0m\n\u001B[0;32m-> 1210\u001B[0;31m                     \u001B[0msession\u001B[0m\u001B[0;34m.\u001B[0m\u001B[0mon_packet_received\u001B[0m\u001B[0;34m(\u001B[0m\u001B[0mp\u001B[0m\u001B[0;34m)\u001B[0m\u001B[0;34m\u001B[0m\u001B[0;34m\u001B[0m\u001B[0m\n\u001B[0m\u001B[1;32m   1211\u001B[0m                     \u001B[0;31m# check\u001B[0m\u001B[0;34m\u001B[0m\u001B[0;34m\u001B[0m\u001B[0;34m\u001B[0m\u001B[0m\n\u001B[1;32m   1212\u001B[0m                     \u001B[0;32mif\u001B[0m \u001B[0;34m(\u001B[0m\u001B[0mstop_filter\u001B[0m \u001B[0;32mand\u001B[0m \u001B[0mstop_filter\u001B[0m\u001B[0;34m(\u001B[0m\u001B[0mp\u001B[0m\u001B[0;34m)\u001B[0m\u001B[0;34m)\u001B[0m \u001B[0;32mor\u001B[0m\u001B[0;31m \u001B[0m\u001B[0;31m\\\u001B[0m\u001B[0;34m\u001B[0m\u001B[0;34m\u001B[0m\u001B[0m\n",
      "\u001B[0;32m~/MLStuff/venv/lib/python3.8/site-packages/scapy/layers/netflow.py\u001B[0m in \u001B[0;36mon_packet_received\u001B[0;34m(self, pkt)\u001B[0m\n\u001B[1;32m   1597\u001B[0m         \u001B[0mpkt\u001B[0m \u001B[0;34m=\u001B[0m \u001B[0mself\u001B[0m\u001B[0;34m.\u001B[0m\u001B[0m_ip_process_packet\u001B[0m\u001B[0;34m(\u001B[0m\u001B[0mpkt\u001B[0m\u001B[0;34m)\u001B[0m\u001B[0;34m\u001B[0m\u001B[0;34m\u001B[0m\u001B[0m\n\u001B[1;32m   1598\u001B[0m         \u001B[0;31m# Now handle NetflowV9 defragmentation\u001B[0m\u001B[0;34m\u001B[0m\u001B[0;34m\u001B[0m\u001B[0;34m\u001B[0m\u001B[0m\n\u001B[0;32m-> 1599\u001B[0;31m         \u001B[0mpkt\u001B[0m \u001B[0;34m=\u001B[0m \u001B[0mself\u001B[0m\u001B[0;34m.\u001B[0m\u001B[0m_process_packet\u001B[0m\u001B[0;34m(\u001B[0m\u001B[0mpkt\u001B[0m\u001B[0;34m)\u001B[0m\u001B[0;34m\u001B[0m\u001B[0;34m\u001B[0m\u001B[0m\n\u001B[0m\u001B[1;32m   1600\u001B[0m         \u001B[0mDefaultSession\u001B[0m\u001B[0;34m.\u001B[0m\u001B[0mon_packet_received\u001B[0m\u001B[0;34m(\u001B[0m\u001B[0mself\u001B[0m\u001B[0;34m,\u001B[0m \u001B[0mpkt\u001B[0m\u001B[0;34m)\u001B[0m\u001B[0;34m\u001B[0m\u001B[0;34m\u001B[0m\u001B[0m\n\u001B[1;32m   1601\u001B[0m \u001B[0;34m\u001B[0m\u001B[0m\n",
      "\u001B[0;32m~/MLStuff/venv/lib/python3.8/site-packages/scapy/layers/netflow.py\u001B[0m in \u001B[0;36m_process_packet\u001B[0;34m(self, pkt)\u001B[0m\n\u001B[1;32m   1587\u001B[0m \u001B[0;34m\u001B[0m\u001B[0m\n\u001B[1;32m   1588\u001B[0m     \u001B[0;32mdef\u001B[0m \u001B[0m_process_packet\u001B[0m\u001B[0;34m(\u001B[0m\u001B[0mself\u001B[0m\u001B[0;34m,\u001B[0m \u001B[0mpkt\u001B[0m\u001B[0;34m)\u001B[0m\u001B[0;34m:\u001B[0m\u001B[0;34m\u001B[0m\u001B[0;34m\u001B[0m\u001B[0m\n\u001B[0;32m-> 1589\u001B[0;31m         _netflowv9_defragment_packet(pkt,\n\u001B[0m\u001B[1;32m   1590\u001B[0m                                      \u001B[0mself\u001B[0m\u001B[0;34m.\u001B[0m\u001B[0mdefinitions\u001B[0m\u001B[0;34m,\u001B[0m\u001B[0;34m\u001B[0m\u001B[0;34m\u001B[0m\u001B[0m\n\u001B[1;32m   1591\u001B[0m                                      \u001B[0mself\u001B[0m\u001B[0;34m.\u001B[0m\u001B[0mdefinitions_opts\u001B[0m\u001B[0;34m,\u001B[0m\u001B[0;34m\u001B[0m\u001B[0;34m\u001B[0m\u001B[0m\n",
      "\u001B[0;32m~/MLStuff/venv/lib/python3.8/site-packages/scapy/layers/netflow.py\u001B[0m in \u001B[0;36m_netflowv9_defragment_packet\u001B[0;34m(pkt, definitions, definitions_opts, ignored)\u001B[0m\n\u001B[1;32m   1443\u001B[0m     \u001B[0;34m\"\"\"Used internally to process a single packet during defragmenting\"\"\"\u001B[0m\u001B[0;34m\u001B[0m\u001B[0;34m\u001B[0m\u001B[0m\n\u001B[1;32m   1444\u001B[0m     \u001B[0;31m# Dataflowset definitions\u001B[0m\u001B[0;34m\u001B[0m\u001B[0;34m\u001B[0m\u001B[0;34m\u001B[0m\u001B[0m\n\u001B[0;32m-> 1445\u001B[0;31m     \u001B[0;32mif\u001B[0m \u001B[0mNetflowFlowsetV9\u001B[0m \u001B[0;32min\u001B[0m \u001B[0mpkt\u001B[0m\u001B[0;34m:\u001B[0m\u001B[0;34m\u001B[0m\u001B[0;34m\u001B[0m\u001B[0m\n\u001B[0m\u001B[1;32m   1446\u001B[0m         \u001B[0mcurrent\u001B[0m \u001B[0;34m=\u001B[0m \u001B[0mpkt\u001B[0m\u001B[0;34m\u001B[0m\u001B[0;34m\u001B[0m\u001B[0m\n\u001B[1;32m   1447\u001B[0m         \u001B[0;32mwhile\u001B[0m \u001B[0mNetflowFlowsetV9\u001B[0m \u001B[0;32min\u001B[0m \u001B[0mcurrent\u001B[0m\u001B[0;34m:\u001B[0m\u001B[0;34m\u001B[0m\u001B[0;34m\u001B[0m\u001B[0m\n",
      "\u001B[0;31mTypeError\u001B[0m: argument of type 'NoneType' is not iterable"
     ]
    }
   ],
   "source": [
    "from scapy.all import *\n",
    "sniff(offline=open(\"pcap/1.pcap\", \"rb\"), session=NetflowSession)"
   ],
   "metadata": {
    "collapsed": false,
    "pycharm": {
     "name": "#%%\n"
    }
   }
  }
 ],
 "metadata": {
  "kernelspec": {
   "display_name": "Python 3",
   "language": "python",
   "name": "python3"
  },
  "language_info": {
   "codemirror_mode": {
    "name": "ipython",
    "version": 2
   },
   "file_extension": ".py",
   "mimetype": "text/x-python",
   "name": "python",
   "nbconvert_exporter": "python",
   "pygments_lexer": "ipython2",
   "version": "2.7.6"
  }
 },
 "nbformat": 4,
 "nbformat_minor": 0
}